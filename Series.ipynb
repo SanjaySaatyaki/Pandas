{
  "nbformat": 4,
  "nbformat_minor": 0,
  "metadata": {
    "colab": {
      "name": "Untitled0.ipynb",
      "provenance": [],
      "authorship_tag": "ABX9TyN/CGfGwlw8WBDf1ZKQbDiJ",
      "include_colab_link": true
    },
    "kernelspec": {
      "name": "python3",
      "display_name": "Python 3"
    },
    "language_info": {
      "name": "python"
    }
  },
  "cells": [
    {
      "cell_type": "markdown",
      "metadata": {
        "id": "view-in-github",
        "colab_type": "text"
      },
      "source": [
        "<a href=\"https://colab.research.google.com/github/SanjaySaatyaki/Pandas/blob/main/Series.ipynb\" target=\"_parent\"><img src=\"https://colab.research.google.com/assets/colab-badge.svg\" alt=\"Open In Colab\"/></a>"
      ]
    },
    {
      "cell_type": "code",
      "execution_count": 1,
      "metadata": {
        "id": "GWwksHHXyLCq"
      },
      "outputs": [],
      "source": [
        "students = [\"A\",\"B\",\"C\"]"
      ]
    },
    {
      "cell_type": "code",
      "source": [
        "type(students)"
      ],
      "metadata": {
        "id": "sKFExNxS0XCm",
        "outputId": "7b4014e7-3fec-44a2-c83d-2abe7d7b1bbb",
        "colab": {
          "base_uri": "https://localhost:8080/"
        }
      },
      "execution_count": 2,
      "outputs": [
        {
          "output_type": "execute_result",
          "data": {
            "text/plain": [
              "list"
            ]
          },
          "metadata": {},
          "execution_count": 2
        }
      ]
    },
    {
      "cell_type": "code",
      "source": [
        "import pandas as pd\n",
        "pd.Series(students)"
      ],
      "metadata": {
        "id": "VM9L5Oj00b2i",
        "outputId": "e4b4bd86-8246-4a42-84a5-12db5bf4577b",
        "colab": {
          "base_uri": "https://localhost:8080/"
        }
      },
      "execution_count": 3,
      "outputs": [
        {
          "output_type": "execute_result",
          "data": {
            "text/plain": [
              "0    A\n",
              "1    B\n",
              "2    C\n",
              "dtype: object"
            ]
          },
          "metadata": {},
          "execution_count": 3
        }
      ]
    },
    {
      "cell_type": "code",
      "source": [
        "\n",
        "ages = [27,30,40]"
      ],
      "metadata": {
        "id": "LzAYD1tU0mty"
      },
      "execution_count": 4,
      "outputs": []
    },
    {
      "cell_type": "code",
      "source": [
        "pd.Series(ages)"
      ],
      "metadata": {
        "id": "aRKds-zu0twa",
        "outputId": "ca17f77d-b22c-485a-e64f-ef3977286aec",
        "colab": {
          "base_uri": "https://localhost:8080/"
        }
      },
      "execution_count": 5,
      "outputs": [
        {
          "output_type": "execute_result",
          "data": {
            "text/plain": [
              "0    27\n",
              "1    30\n",
              "2    40\n",
              "dtype: int64"
            ]
          },
          "metadata": {},
          "execution_count": 5
        }
      ]
    },
    {
      "cell_type": "code",
      "source": [
        "heights = [5.4,6.1,5.9]\n",
        "pd.Series(heights)"
      ],
      "metadata": {
        "id": "zpug5fa90v36",
        "outputId": "a7a23b52-f1e5-4272-8909-4b5bd2b81994",
        "colab": {
          "base_uri": "https://localhost:8080/"
        }
      },
      "execution_count": 6,
      "outputs": [
        {
          "output_type": "execute_result",
          "data": {
            "text/plain": [
              "0    5.4\n",
              "1    6.1\n",
              "2    5.9\n",
              "dtype: float64"
            ]
          },
          "metadata": {},
          "execution_count": 6
        }
      ]
    },
    {
      "cell_type": "code",
      "source": [
        "mixed = [True,\"hello\",{\"key\":\"value\"}]"
      ],
      "metadata": {
        "id": "SBgQSsq605qU"
      },
      "execution_count": 7,
      "outputs": []
    },
    {
      "cell_type": "code",
      "source": [
        "\n",
        "pd.Series(mixed)"
      ],
      "metadata": {
        "id": "Y9RBBqnr1UKB",
        "outputId": "c990f63a-52f5-4c04-82d7-f50bb4f596cc",
        "colab": {
          "base_uri": "https://localhost:8080/"
        }
      },
      "execution_count": 8,
      "outputs": [
        {
          "output_type": "execute_result",
          "data": {
            "text/plain": [
              "0                True\n",
              "1               hello\n",
              "2    {'key': 'value'}\n",
              "dtype: object"
            ]
          },
          "metadata": {},
          "execution_count": 8
        }
      ]
    },
    {
      "cell_type": "markdown",
      "source": [
        "# Parameters Vs Arguments"
      ],
      "metadata": {
        "id": "UPc50m2v1kyR"
      }
    },
    {
      "cell_type": "code",
      "source": [
        "pd.Series(data=students)"
      ],
      "metadata": {
        "id": "UrNASY9Y1pCR",
        "colab": {
          "base_uri": "https://localhost:8080/"
        },
        "outputId": "60c7d5e7-ce0d-47af-e630-e98edec83b0a"
      },
      "execution_count": 9,
      "outputs": [
        {
          "output_type": "execute_result",
          "data": {
            "text/plain": [
              "0    A\n",
              "1    B\n",
              "2    C\n",
              "dtype: object"
            ]
          },
          "metadata": {},
          "execution_count": 9
        }
      ]
    },
    {
      "cell_type": "code",
      "source": [
        "books_list = [\"ikagai\",\"psychology of money\",\"clean code\"]"
      ],
      "metadata": {
        "id": "r78dDOKVyWny"
      },
      "execution_count": 10,
      "outputs": []
    },
    {
      "cell_type": "code",
      "source": [
        "list_a = pd.Series(books_list)"
      ],
      "metadata": {
        "id": "BN4q3q4oywlr"
      },
      "execution_count": 11,
      "outputs": []
    },
    {
      "cell_type": "code",
      "source": [
        "books_dict = {0:\"ikagai\",1:\"psychology of money\",2:\"clean code\"}"
      ],
      "metadata": {
        "id": "clHZqc98y0g2"
      },
      "execution_count": 12,
      "outputs": []
    },
    {
      "cell_type": "code",
      "source": [
        "books_a = pd.Series(books_dict)"
      ],
      "metadata": {
        "id": "R6MLt_eAzEIn"
      },
      "execution_count": 13,
      "outputs": []
    },
    {
      "cell_type": "code",
      "source": [
        "list_a.equals(books_a)"
      ],
      "metadata": {
        "colab": {
          "base_uri": "https://localhost:8080/"
        },
        "id": "UUZ7qmx5zGrK",
        "outputId": "7824db7d-de04-43e4-d37a-aea11240e630"
      },
      "execution_count": 14,
      "outputs": [
        {
          "output_type": "execute_result",
          "data": {
            "text/plain": [
              "True"
            ]
          },
          "metadata": {},
          "execution_count": 14
        }
      ]
    },
    {
      "cell_type": "markdown",
      "source": [
        ".dtype\n"
      ],
      "metadata": {
        "id": "y6bH7jgH0HfR"
      }
    },
    {
      "cell_type": "code",
      "source": [
        "pd.Series(ages,dtype=\"float\")"
      ],
      "metadata": {
        "colab": {
          "base_uri": "https://localhost:8080/"
        },
        "id": "rHsOsy8u0PXn",
        "outputId": "2e8f7b29-a899-4f60-d45b-079212bc441b"
      },
      "execution_count": 15,
      "outputs": [
        {
          "output_type": "execute_result",
          "data": {
            "text/plain": [
              "0    27.0\n",
              "1    30.0\n",
              "2    40.0\n",
              "dtype: float64"
            ]
          },
          "metadata": {},
          "execution_count": 15
        }
      ]
    },
    {
      "cell_type": "code",
      "source": [
        "name_series = pd.Series(students)"
      ],
      "metadata": {
        "id": "l2ZQ2LCK0VYW"
      },
      "execution_count": 16,
      "outputs": []
    },
    {
      "cell_type": "code",
      "source": [
        "name_series.dtype"
      ],
      "metadata": {
        "colab": {
          "base_uri": "https://localhost:8080/"
        },
        "id": "kTsuiLoQ0jkW",
        "outputId": "1b43a5a0-e2f8-4dbf-c7f1-1f62208c43b9"
      },
      "execution_count": 17,
      "outputs": [
        {
          "output_type": "execute_result",
          "data": {
            "text/plain": [
              "dtype('O')"
            ]
          },
          "metadata": {},
          "execution_count": 17
        }
      ]
    },
    {
      "cell_type": "markdown",
      "source": [
        "Custom Index"
      ],
      "metadata": {
        "id": "evFrlaz51Q0g"
      }
    },
    {
      "cell_type": "code",
      "source": [
        "pd.Series(books_list,[\"Motivation\",\"Finance\",\"Coding\"])"
      ],
      "metadata": {
        "colab": {
          "base_uri": "https://localhost:8080/"
        },
        "id": "fliPdI7s1SiA",
        "outputId": "7ceb9040-2506-4d16-aadb-14e9613a9e0f"
      },
      "execution_count": 18,
      "outputs": [
        {
          "output_type": "execute_result",
          "data": {
            "text/plain": [
              "Motivation                 ikagai\n",
              "Finance       psychology of money\n",
              "Coding                 clean code\n",
              "dtype: object"
            ]
          },
          "metadata": {},
          "execution_count": 18
        }
      ]
    },
    {
      "cell_type": "code",
      "source": [
        "book_series = books_a"
      ],
      "metadata": {
        "id": "Lyxh8vrh1alw"
      },
      "execution_count": 19,
      "outputs": []
    },
    {
      "cell_type": "code",
      "source": [
        "book_series.name = \"Books i have Read\""
      ],
      "metadata": {
        "id": "J-YvKihMGoTr"
      },
      "execution_count": 20,
      "outputs": []
    },
    {
      "cell_type": "code",
      "source": [
        "book_series.index.name = \"Catagory\""
      ],
      "metadata": {
        "id": "_JWtBnSkGrlC"
      },
      "execution_count": 21,
      "outputs": []
    },
    {
      "cell_type": "code",
      "source": [
        "book_series"
      ],
      "metadata": {
        "colab": {
          "base_uri": "https://localhost:8080/"
        },
        "id": "eie6yetPGvsa",
        "outputId": "fc18a599-1011-4edd-bc19-52afbf0973c7"
      },
      "execution_count": 22,
      "outputs": [
        {
          "output_type": "execute_result",
          "data": {
            "text/plain": [
              "Catagory\n",
              "0                 ikagai\n",
              "1    psychology of money\n",
              "2             clean code\n",
              "Name: Books i have Read, dtype: object"
            ]
          },
          "metadata": {},
          "execution_count": 22
        }
      ]
    },
    {
      "cell_type": "code",
      "source": [
        "actors = [\"A\",\"B\",\"C\"]\n",
        "age = [10,20,30]"
      ],
      "metadata": {
        "id": "kNhTFpxAGx1C"
      },
      "execution_count": 23,
      "outputs": []
    },
    {
      "cell_type": "code",
      "source": [
        "pd.Series(ages,actors)"
      ],
      "metadata": {
        "colab": {
          "base_uri": "https://localhost:8080/"
        },
        "id": "050_zCSWHJuS",
        "outputId": "d7c7b175-ecce-4db2-8b8f-0974fb927eff"
      },
      "execution_count": 24,
      "outputs": [
        {
          "output_type": "execute_result",
          "data": {
            "text/plain": [
              "A    27\n",
              "B    30\n",
              "C    40\n",
              "dtype: int64"
            ]
          },
          "metadata": {},
          "execution_count": 24
        }
      ]
    },
    {
      "cell_type": "code",
      "source": [
        "actors_dict = dict(zip(actors,ages))\n",
        "pd.Series(actors_dict)"
      ],
      "metadata": {
        "colab": {
          "base_uri": "https://localhost:8080/"
        },
        "id": "prObS6xHHOsy",
        "outputId": "499424f2-0453-4976-f007-b6d83864ff23"
      },
      "execution_count": 25,
      "outputs": [
        {
          "output_type": "execute_result",
          "data": {
            "text/plain": [
              "A    27\n",
              "B    30\n",
              "C    40\n",
              "dtype: int64"
            ]
          },
          "metadata": {},
          "execution_count": 25
        }
      ]
    },
    {
      "cell_type": "code",
      "source": [
        "int_series = pd.Series(range(60))"
      ],
      "metadata": {
        "id": "r2D8_wOPHpWM"
      },
      "execution_count": 26,
      "outputs": []
    },
    {
      "cell_type": "code",
      "source": [
        "int_series.size"
      ],
      "metadata": {
        "colab": {
          "base_uri": "https://localhost:8080/"
        },
        "id": "GS8DhvCvI6-b",
        "outputId": "8d2e9fbf-72e7-41f7-a7d8-b5e3fcd78f5d"
      },
      "execution_count": 27,
      "outputs": [
        {
          "output_type": "execute_result",
          "data": {
            "text/plain": [
              "60"
            ]
          },
          "metadata": {},
          "execution_count": 27
        }
      ]
    },
    {
      "cell_type": "code",
      "source": [
        "int_series.head()"
      ],
      "metadata": {
        "colab": {
          "base_uri": "https://localhost:8080/"
        },
        "id": "JtK-7C71I9lq",
        "outputId": "81698378-9f96-44f1-fea9-b1891b9960a6"
      },
      "execution_count": 28,
      "outputs": [
        {
          "output_type": "execute_result",
          "data": {
            "text/plain": [
              "0    0\n",
              "1    1\n",
              "2    2\n",
              "3    3\n",
              "4    4\n",
              "dtype: int64"
            ]
          },
          "metadata": {},
          "execution_count": 28
        }
      ]
    },
    {
      "cell_type": "code",
      "source": [
        "int_series.tail()"
      ],
      "metadata": {
        "colab": {
          "base_uri": "https://localhost:8080/"
        },
        "id": "DTyYK4C3JEmz",
        "outputId": "8f8cfff6-6b0a-4796-d599-092ea337a6ed"
      },
      "execution_count": 29,
      "outputs": [
        {
          "output_type": "execute_result",
          "data": {
            "text/plain": [
              "55    55\n",
              "56    56\n",
              "57    57\n",
              "58    58\n",
              "59    59\n",
              "dtype: int64"
            ]
          },
          "metadata": {},
          "execution_count": 29
        }
      ]
    },
    {
      "cell_type": "code",
      "source": [
        "int_series.tail(n=10)"
      ],
      "metadata": {
        "colab": {
          "base_uri": "https://localhost:8080/"
        },
        "id": "qmnO2F-WJNP8",
        "outputId": "3bfe8a5d-77de-4020-bf9d-4b9148f23f00"
      },
      "execution_count": 30,
      "outputs": [
        {
          "output_type": "execute_result",
          "data": {
            "text/plain": [
              "50    50\n",
              "51    51\n",
              "52    52\n",
              "53    53\n",
              "54    54\n",
              "55    55\n",
              "56    56\n",
              "57    57\n",
              "58    58\n",
              "59    59\n",
              "dtype: int64"
            ]
          },
          "metadata": {},
          "execution_count": 30
        }
      ]
    },
    {
      "cell_type": "code",
      "source": [
        "from string import ascii_lowercase"
      ],
      "metadata": {
        "id": "Ox1UHzGPJP5D"
      },
      "execution_count": 31,
      "outputs": []
    },
    {
      "cell_type": "code",
      "source": [
        "ascii_lowercase"
      ],
      "metadata": {
        "colab": {
          "base_uri": "https://localhost:8080/",
          "height": 35
        },
        "id": "1vTbPHbnJk5L",
        "outputId": "3ce5100e-9953-4e04-8ac4-248b8c3ddb69"
      },
      "execution_count": 32,
      "outputs": [
        {
          "output_type": "execute_result",
          "data": {
            "text/plain": [
              "'abcdefghijklmnopqrstuvwxyz'"
            ],
            "application/vnd.google.colaboratory.intrinsic+json": {
              "type": "string"
            }
          },
          "metadata": {},
          "execution_count": 32
        }
      ]
    },
    {
      "cell_type": "code",
      "source": [
        "alphabet = pd.Series(list(ascii_lowercase))"
      ],
      "metadata": {
        "id": "CCF9v5PTJmkM"
      },
      "execution_count": 33,
      "outputs": []
    },
    {
      "cell_type": "code",
      "source": [
        "alphabet.head()"
      ],
      "metadata": {
        "colab": {
          "base_uri": "https://localhost:8080/"
        },
        "id": "yakKLj6DJwKD",
        "outputId": "f5e28e5b-7c98-48e1-ef50-989c58886aab"
      },
      "execution_count": 34,
      "outputs": [
        {
          "output_type": "execute_result",
          "data": {
            "text/plain": [
              "0    a\n",
              "1    b\n",
              "2    c\n",
              "3    d\n",
              "4    e\n",
              "dtype: object"
            ]
          },
          "metadata": {},
          "execution_count": 34
        }
      ]
    },
    {
      "cell_type": "code",
      "source": [
        "alphabet[0:-1]"
      ],
      "metadata": {
        "colab": {
          "base_uri": "https://localhost:8080/"
        },
        "id": "0mRIkU3aJzKE",
        "outputId": "055f6254-0523-4b96-a1e0-73c03d136be9"
      },
      "execution_count": 35,
      "outputs": [
        {
          "output_type": "execute_result",
          "data": {
            "text/plain": [
              "0     a\n",
              "1     b\n",
              "2     c\n",
              "3     d\n",
              "4     e\n",
              "5     f\n",
              "6     g\n",
              "7     h\n",
              "8     i\n",
              "9     j\n",
              "10    k\n",
              "11    l\n",
              "12    m\n",
              "13    n\n",
              "14    o\n",
              "15    p\n",
              "16    q\n",
              "17    r\n",
              "18    s\n",
              "19    t\n",
              "20    u\n",
              "21    v\n",
              "22    w\n",
              "23    x\n",
              "24    y\n",
              "dtype: object"
            ]
          },
          "metadata": {},
          "execution_count": 35
        }
      ]
    },
    {
      "cell_type": "code",
      "source": [
        "alphabet[-6:]"
      ],
      "metadata": {
        "colab": {
          "base_uri": "https://localhost:8080/"
        },
        "id": "mVzcKz9UKADK",
        "outputId": "6f7fe014-3e9e-42ae-e559-22a17f4754a9"
      },
      "execution_count": 36,
      "outputs": [
        {
          "output_type": "execute_result",
          "data": {
            "text/plain": [
              "20    u\n",
              "21    v\n",
              "22    w\n",
              "23    x\n",
              "24    y\n",
              "25    z\n",
              "dtype: object"
            ]
          },
          "metadata": {},
          "execution_count": 36
        }
      ]
    },
    {
      "cell_type": "code",
      "source": [
        "from string import ascii_uppercase"
      ],
      "metadata": {
        "id": "8YJT_SfbKR6m"
      },
      "execution_count": 37,
      "outputs": []
    },
    {
      "cell_type": "code",
      "source": [
        "labeled_alphabet = pd.Series(data=list(ascii_lowercase),index=map(lambda x: 'label_'+x,list(ascii_uppercase)))"
      ],
      "metadata": {
        "id": "7-lRd31JMtQ7"
      },
      "execution_count": 38,
      "outputs": []
    },
    {
      "cell_type": "code",
      "source": [
        "labeled_alphabet.head()"
      ],
      "metadata": {
        "colab": {
          "base_uri": "https://localhost:8080/"
        },
        "id": "oHP_V7J-M4vr",
        "outputId": "e55b87ed-4211-4b60-f2a5-4e88f930f7c5"
      },
      "execution_count": 39,
      "outputs": [
        {
          "output_type": "execute_result",
          "data": {
            "text/plain": [
              "label_A    a\n",
              "label_B    b\n",
              "label_C    c\n",
              "label_D    d\n",
              "label_E    e\n",
              "dtype: object"
            ]
          },
          "metadata": {},
          "execution_count": 39
        }
      ]
    },
    {
      "cell_type": "code",
      "source": [
        "labeled_alphabet[0]"
      ],
      "metadata": {
        "colab": {
          "base_uri": "https://localhost:8080/",
          "height": 35
        },
        "id": "lNaGXqR2M7bj",
        "outputId": "1fea5013-e922-4560-87fe-346886eb0cbc"
      },
      "execution_count": 40,
      "outputs": [
        {
          "output_type": "execute_result",
          "data": {
            "text/plain": [
              "'a'"
            ],
            "application/vnd.google.colaboratory.intrinsic+json": {
              "type": "string"
            }
          },
          "metadata": {},
          "execution_count": 40
        }
      ]
    },
    {
      "cell_type": "code",
      "source": [
        "labeled_alphabet['label_A']"
      ],
      "metadata": {
        "colab": {
          "base_uri": "https://localhost:8080/",
          "height": 35
        },
        "id": "e_6yYee2NwRD",
        "outputId": "313a9890-a82e-411c-8f0c-581579f93387"
      },
      "execution_count": 41,
      "outputs": [
        {
          "output_type": "execute_result",
          "data": {
            "text/plain": [
              "'a'"
            ],
            "application/vnd.google.colaboratory.intrinsic+json": {
              "type": "string"
            }
          },
          "metadata": {},
          "execution_count": 41
        }
      ]
    },
    {
      "cell_type": "code",
      "source": [
        "alphabet.head()"
      ],
      "metadata": {
        "colab": {
          "base_uri": "https://localhost:8080/"
        },
        "id": "XHifqBRFNzda",
        "outputId": "51d761ad-c190-4a7b-93a4-1108f227da7c"
      },
      "execution_count": 42,
      "outputs": [
        {
          "output_type": "execute_result",
          "data": {
            "text/plain": [
              "0    a\n",
              "1    b\n",
              "2    c\n",
              "3    d\n",
              "4    e\n",
              "dtype: object"
            ]
          },
          "metadata": {},
          "execution_count": 42
        }
      ]
    },
    {
      "cell_type": "code",
      "source": [
        "alphabet.add_prefix(\"label_\")"
      ],
      "metadata": {
        "id": "6vKNH5XTOY5T",
        "outputId": "036d4140-f130-4964-952f-d585cfb7caaf",
        "colab": {
          "base_uri": "https://localhost:8080/"
        }
      },
      "execution_count": 43,
      "outputs": [
        {
          "output_type": "execute_result",
          "data": {
            "text/plain": [
              "label_0     a\n",
              "label_1     b\n",
              "label_2     c\n",
              "label_3     d\n",
              "label_4     e\n",
              "label_5     f\n",
              "label_6     g\n",
              "label_7     h\n",
              "label_8     i\n",
              "label_9     j\n",
              "label_10    k\n",
              "label_11    l\n",
              "label_12    m\n",
              "label_13    n\n",
              "label_14    o\n",
              "label_15    p\n",
              "label_16    q\n",
              "label_17    r\n",
              "label_18    s\n",
              "label_19    t\n",
              "label_20    u\n",
              "label_21    v\n",
              "label_22    w\n",
              "label_23    x\n",
              "label_24    y\n",
              "label_25    z\n",
              "dtype: object"
            ]
          },
          "metadata": {},
          "execution_count": 43
        }
      ]
    },
    {
      "cell_type": "code",
      "source": [
        "alphabet.add_suffix(\"_suffix\")"
      ],
      "metadata": {
        "id": "ySZjEVHcOgoL",
        "outputId": "555b229d-8ca7-48f1-c039-d95d97c2ef1a",
        "colab": {
          "base_uri": "https://localhost:8080/"
        }
      },
      "execution_count": 44,
      "outputs": [
        {
          "output_type": "execute_result",
          "data": {
            "text/plain": [
              "0_suffix     a\n",
              "1_suffix     b\n",
              "2_suffix     c\n",
              "3_suffix     d\n",
              "4_suffix     e\n",
              "5_suffix     f\n",
              "6_suffix     g\n",
              "7_suffix     h\n",
              "8_suffix     i\n",
              "9_suffix     j\n",
              "10_suffix    k\n",
              "11_suffix    l\n",
              "12_suffix    m\n",
              "13_suffix    n\n",
              "14_suffix    o\n",
              "15_suffix    p\n",
              "16_suffix    q\n",
              "17_suffix    r\n",
              "18_suffix    s\n",
              "19_suffix    t\n",
              "20_suffix    u\n",
              "21_suffix    v\n",
              "22_suffix    w\n",
              "23_suffix    x\n",
              "24_suffix    y\n",
              "25_suffix    z\n",
              "dtype: object"
            ]
          },
          "metadata": {},
          "execution_count": 44
        }
      ]
    },
    {
      "cell_type": "markdown",
      "source": [
        "Using Dot Notation"
      ],
      "metadata": {
        "id": "pShwjUe3OwEB"
      }
    },
    {
      "cell_type": "code",
      "source": [
        "labeled_alphabet['label_V']"
      ],
      "metadata": {
        "id": "QNnZJQtrOziT",
        "outputId": "dd0db2f5-572c-42b2-aa62-65bd158e80be",
        "colab": {
          "base_uri": "https://localhost:8080/",
          "height": 35
        }
      },
      "execution_count": 45,
      "outputs": [
        {
          "output_type": "execute_result",
          "data": {
            "text/plain": [
              "'v'"
            ],
            "application/vnd.google.colaboratory.intrinsic+json": {
              "type": "string"
            }
          },
          "metadata": {},
          "execution_count": 45
        }
      ]
    },
    {
      "cell_type": "code",
      "source": [
        "labeled_alphabet.label_V"
      ],
      "metadata": {
        "id": "ZC8srgARO4SD",
        "outputId": "8d429c78-b82c-4e1f-85e0-80a995b0c8e0",
        "colab": {
          "base_uri": "https://localhost:8080/",
          "height": 35
        }
      },
      "execution_count": 46,
      "outputs": [
        {
          "output_type": "execute_result",
          "data": {
            "text/plain": [
              "'v'"
            ],
            "application/vnd.google.colaboratory.intrinsic+json": {
              "type": "string"
            }
          },
          "metadata": {},
          "execution_count": 46
        }
      ]
    },
    {
      "cell_type": "code",
      "source": [
        ""
      ],
      "metadata": {
        "id": "PA429SxkPASy"
      },
      "execution_count": 46,
      "outputs": []
    },
    {
      "cell_type": "markdown",
      "source": [
        "Boolean Mask and the .loc Indexer"
      ],
      "metadata": {
        "id": "ophTqwehRsew"
      }
    },
    {
      "cell_type": "code",
      "source": [
        "labeled_alphabet['label_F':'label_J']"
      ],
      "metadata": {
        "id": "_F-TRzXARxrl",
        "outputId": "036b3277-2305-4403-8266-dfbaeff66eca",
        "colab": {
          "base_uri": "https://localhost:8080/"
        }
      },
      "execution_count": 47,
      "outputs": [
        {
          "output_type": "execute_result",
          "data": {
            "text/plain": [
              "label_F    f\n",
              "label_G    g\n",
              "label_H    h\n",
              "label_I    i\n",
              "label_J    j\n",
              "dtype: object"
            ]
          },
          "metadata": {},
          "execution_count": 47
        }
      ]
    },
    {
      "cell_type": "code",
      "source": [
        "labeled_alphabet.loc['label_F':'label_J']"
      ],
      "metadata": {
        "id": "BOJdNEKAR_QP",
        "outputId": "663a1494-db72-48a0-af90-0e91cb277850",
        "colab": {
          "base_uri": "https://localhost:8080/"
        }
      },
      "execution_count": 48,
      "outputs": [
        {
          "output_type": "execute_result",
          "data": {
            "text/plain": [
              "label_F    f\n",
              "label_G    g\n",
              "label_H    h\n",
              "label_I    i\n",
              "label_J    j\n",
              "dtype: object"
            ]
          },
          "metadata": {},
          "execution_count": 48
        }
      ]
    },
    {
      "cell_type": "code",
      "source": [
        "book_series"
      ],
      "metadata": {
        "id": "5QgtK6jJSIuz",
        "outputId": "7c689b47-6c81-4f4e-f4e8-961c5e0415b2",
        "colab": {
          "base_uri": "https://localhost:8080/"
        }
      },
      "execution_count": 49,
      "outputs": [
        {
          "output_type": "execute_result",
          "data": {
            "text/plain": [
              "Catagory\n",
              "0                 ikagai\n",
              "1    psychology of money\n",
              "2             clean code\n",
              "Name: Books i have Read, dtype: object"
            ]
          },
          "metadata": {},
          "execution_count": 49
        }
      ]
    },
    {
      "cell_type": "code",
      "source": [
        "book_series.loc[[True,False,True]]\n",
        "#Boolen mask size of bool must be size of series"
      ],
      "metadata": {
        "id": "pwCkrSn5Sml7",
        "outputId": "7d060c36-39dc-4e53-cd97-a87533c23206",
        "colab": {
          "base_uri": "https://localhost:8080/"
        }
      },
      "execution_count": 50,
      "outputs": [
        {
          "output_type": "execute_result",
          "data": {
            "text/plain": [
              "Catagory\n",
              "0        ikagai\n",
              "2    clean code\n",
              "Name: Books i have Read, dtype: object"
            ]
          },
          "metadata": {},
          "execution_count": 50
        }
      ]
    },
    {
      "cell_type": "code",
      "source": [
        "labeled_alphabet.loc[[True for i in range(26)]]"
      ],
      "metadata": {
        "id": "0F9C54NtSutk",
        "outputId": "678574b0-ec8d-494e-8eaf-1c039248d04d",
        "colab": {
          "base_uri": "https://localhost:8080/"
        }
      },
      "execution_count": 51,
      "outputs": [
        {
          "output_type": "execute_result",
          "data": {
            "text/plain": [
              "label_A    a\n",
              "label_B    b\n",
              "label_C    c\n",
              "label_D    d\n",
              "label_E    e\n",
              "label_F    f\n",
              "label_G    g\n",
              "label_H    h\n",
              "label_I    i\n",
              "label_J    j\n",
              "label_K    k\n",
              "label_L    l\n",
              "label_M    m\n",
              "label_N    n\n",
              "label_O    o\n",
              "label_P    p\n",
              "label_Q    q\n",
              "label_R    r\n",
              "label_S    s\n",
              "label_T    t\n",
              "label_U    u\n",
              "label_V    v\n",
              "label_W    w\n",
              "label_X    x\n",
              "label_Y    y\n",
              "label_Z    z\n",
              "dtype: object"
            ]
          },
          "metadata": {},
          "execution_count": 51
        }
      ]
    },
    {
      "cell_type": "code",
      "source": [
        "labeled_alphabet.loc[[True if i%2==0 else False for i in range(26)]]"
      ],
      "metadata": {
        "id": "beitMGA0TOWQ",
        "outputId": "efa5309b-4369-4e1d-cd83-ee8c9d13249e",
        "colab": {
          "base_uri": "https://localhost:8080/"
        }
      },
      "execution_count": 52,
      "outputs": [
        {
          "output_type": "execute_result",
          "data": {
            "text/plain": [
              "label_A    a\n",
              "label_C    c\n",
              "label_E    e\n",
              "label_G    g\n",
              "label_I    i\n",
              "label_K    k\n",
              "label_M    m\n",
              "label_O    o\n",
              "label_Q    q\n",
              "label_S    s\n",
              "label_U    u\n",
              "label_W    w\n",
              "label_Y    y\n",
              "dtype: object"
            ]
          },
          "metadata": {},
          "execution_count": 52
        }
      ]
    },
    {
      "cell_type": "markdown",
      "source": [
        "Extraction by position with iloc"
      ],
      "metadata": {
        "id": "_8BGkt-_UA2e"
      }
    },
    {
      "cell_type": "code",
      "source": [
        "#iloc ==> integer loc ==> indexing by position\n",
        "#loc ==> location => indexing by label"
      ],
      "metadata": {
        "id": "FrixmaiUUCvM"
      },
      "execution_count": 53,
      "outputs": []
    },
    {
      "cell_type": "code",
      "source": [
        "labeled_alphabet.iloc[0]"
      ],
      "metadata": {
        "id": "qfGpXhtMVEr8",
        "outputId": "0f322d0b-494e-445c-a167-dde09d6828fa",
        "colab": {
          "base_uri": "https://localhost:8080/",
          "height": 35
        }
      },
      "execution_count": 54,
      "outputs": [
        {
          "output_type": "execute_result",
          "data": {
            "text/plain": [
              "'a'"
            ],
            "application/vnd.google.colaboratory.intrinsic+json": {
              "type": "string"
            }
          },
          "metadata": {},
          "execution_count": 54
        }
      ]
    },
    {
      "cell_type": "code",
      "source": [
        "labeled_alphabet.iloc[1:3]"
      ],
      "metadata": {
        "id": "Fe_Zd9bDU9fi",
        "outputId": "01bea4fc-4e44-4811-b43a-0e3a68e0c9a3",
        "colab": {
          "base_uri": "https://localhost:8080/"
        }
      },
      "execution_count": 55,
      "outputs": [
        {
          "output_type": "execute_result",
          "data": {
            "text/plain": [
              "label_B    b\n",
              "label_C    c\n",
              "dtype: object"
            ]
          },
          "metadata": {},
          "execution_count": 55
        }
      ]
    },
    {
      "cell_type": "code",
      "source": [
        "labeled_alphabet.iloc[[1,4,9]]"
      ],
      "metadata": {
        "id": "91ISnPxlVMRE",
        "outputId": "4f867d85-4d34-453d-9263-df60f0ede298",
        "colab": {
          "base_uri": "https://localhost:8080/"
        }
      },
      "execution_count": 56,
      "outputs": [
        {
          "output_type": "execute_result",
          "data": {
            "text/plain": [
              "label_B    b\n",
              "label_E    e\n",
              "label_J    j\n",
              "dtype: object"
            ]
          },
          "metadata": {},
          "execution_count": 56
        }
      ]
    },
    {
      "cell_type": "code",
      "source": [
        "def every_fifth(x):\n",
        "  return [True if (i+1)%5==0 else False for i in range(x.size)]"
      ],
      "metadata": {
        "id": "OJam0hohVT_9"
      },
      "execution_count": 57,
      "outputs": []
    },
    {
      "cell_type": "code",
      "source": [
        "labeled_alphabet.iloc[every_fifth]"
      ],
      "metadata": {
        "id": "LiGzbIrkbXjs",
        "outputId": "581dae63-655e-4ea1-d292-201efa287c76",
        "colab": {
          "base_uri": "https://localhost:8080/"
        }
      },
      "execution_count": 58,
      "outputs": [
        {
          "output_type": "execute_result",
          "data": {
            "text/plain": [
              "label_E    e\n",
              "label_J    j\n",
              "label_O    o\n",
              "label_T    t\n",
              "label_Y    y\n",
              "dtype: object"
            ]
          },
          "metadata": {},
          "execution_count": 58
        }
      ]
    },
    {
      "cell_type": "code",
      "source": [
        "labeled_alphabet.get(\"label_in\",default =\"Not found\")"
      ],
      "metadata": {
        "id": "m8wFGwUkbdXU",
        "outputId": "49c15c69-ee13-4de6-eaad-12fcea7c88a6",
        "colab": {
          "base_uri": "https://localhost:8080/",
          "height": 35
        }
      },
      "execution_count": 59,
      "outputs": [
        {
          "output_type": "execute_result",
          "data": {
            "text/plain": [
              "'Not found'"
            ],
            "application/vnd.google.colaboratory.intrinsic+json": {
              "type": "string"
            }
          },
          "metadata": {},
          "execution_count": 59
        }
      ]
    },
    {
      "cell_type": "code",
      "source": [
        ""
      ],
      "metadata": {
        "id": "aTY5ENbvb-DR"
      },
      "execution_count": 59,
      "outputs": []
    },
    {
      "cell_type": "markdown",
      "source": [
        "Series Method and Handling"
      ],
      "metadata": {
        "id": "rkDYdyCNdhbn"
      }
    },
    {
      "cell_type": "code",
      "source": [
        "import pandas as pd"
      ],
      "metadata": {
        "id": "kY6skJmpdzos"
      },
      "execution_count": 60,
      "outputs": []
    },
    {
      "cell_type": "code",
      "source": [
        "pd. read_csv(\"https://andybek.com/pandas-drinks\")"
      ],
      "metadata": {
        "colab": {
          "base_uri": "https://localhost:8080/",
          "height": 488
        },
        "id": "ajFfvZlWd0-w",
        "outputId": "e86e742a-d358-4f30-ba21-83a85e36d66c"
      },
      "execution_count": 61,
      "outputs": [
        {
          "output_type": "execute_result",
          "data": {
            "text/plain": [
              "         country  beer_servings  spirit_servings  wine_servings  \\\n",
              "0    Afghanistan            NaN              NaN            NaN   \n",
              "1        Albania           89.0            132.0           54.0   \n",
              "2        Algeria           25.0              NaN           14.0   \n",
              "3        Andorra          245.0            138.0          312.0   \n",
              "4         Angola          217.0             57.0           45.0   \n",
              "..           ...            ...              ...            ...   \n",
              "188    Venezuela          333.0              1.0            3.0   \n",
              "189      Vietnam          111.0              2.0            1.0   \n",
              "190        Yemen            6.0              NaN            NaN   \n",
              "191       Zambia           32.0             19.0            4.0   \n",
              "192     Zimbabwe           64.0             18.0            4.0   \n",
              "\n",
              "     total_litres_of_pure_alcohol  \n",
              "0                             NaN  \n",
              "1                             4.9  \n",
              "2                             0.7  \n",
              "3                            12.4  \n",
              "4                             5.9  \n",
              "..                            ...  \n",
              "188                           7.7  \n",
              "189                           2.0  \n",
              "190                           0.1  \n",
              "191                           2.5  \n",
              "192                           4.7  \n",
              "\n",
              "[193 rows x 5 columns]"
            ],
            "text/html": [
              "\n",
              "  <div id=\"df-b3cf5287-8f66-4efc-8a02-1bafa9831aea\">\n",
              "    <div class=\"colab-df-container\">\n",
              "      <div>\n",
              "<style scoped>\n",
              "    .dataframe tbody tr th:only-of-type {\n",
              "        vertical-align: middle;\n",
              "    }\n",
              "\n",
              "    .dataframe tbody tr th {\n",
              "        vertical-align: top;\n",
              "    }\n",
              "\n",
              "    .dataframe thead th {\n",
              "        text-align: right;\n",
              "    }\n",
              "</style>\n",
              "<table border=\"1\" class=\"dataframe\">\n",
              "  <thead>\n",
              "    <tr style=\"text-align: right;\">\n",
              "      <th></th>\n",
              "      <th>country</th>\n",
              "      <th>beer_servings</th>\n",
              "      <th>spirit_servings</th>\n",
              "      <th>wine_servings</th>\n",
              "      <th>total_litres_of_pure_alcohol</th>\n",
              "    </tr>\n",
              "  </thead>\n",
              "  <tbody>\n",
              "    <tr>\n",
              "      <th>0</th>\n",
              "      <td>Afghanistan</td>\n",
              "      <td>NaN</td>\n",
              "      <td>NaN</td>\n",
              "      <td>NaN</td>\n",
              "      <td>NaN</td>\n",
              "    </tr>\n",
              "    <tr>\n",
              "      <th>1</th>\n",
              "      <td>Albania</td>\n",
              "      <td>89.0</td>\n",
              "      <td>132.0</td>\n",
              "      <td>54.0</td>\n",
              "      <td>4.9</td>\n",
              "    </tr>\n",
              "    <tr>\n",
              "      <th>2</th>\n",
              "      <td>Algeria</td>\n",
              "      <td>25.0</td>\n",
              "      <td>NaN</td>\n",
              "      <td>14.0</td>\n",
              "      <td>0.7</td>\n",
              "    </tr>\n",
              "    <tr>\n",
              "      <th>3</th>\n",
              "      <td>Andorra</td>\n",
              "      <td>245.0</td>\n",
              "      <td>138.0</td>\n",
              "      <td>312.0</td>\n",
              "      <td>12.4</td>\n",
              "    </tr>\n",
              "    <tr>\n",
              "      <th>4</th>\n",
              "      <td>Angola</td>\n",
              "      <td>217.0</td>\n",
              "      <td>57.0</td>\n",
              "      <td>45.0</td>\n",
              "      <td>5.9</td>\n",
              "    </tr>\n",
              "    <tr>\n",
              "      <th>...</th>\n",
              "      <td>...</td>\n",
              "      <td>...</td>\n",
              "      <td>...</td>\n",
              "      <td>...</td>\n",
              "      <td>...</td>\n",
              "    </tr>\n",
              "    <tr>\n",
              "      <th>188</th>\n",
              "      <td>Venezuela</td>\n",
              "      <td>333.0</td>\n",
              "      <td>1.0</td>\n",
              "      <td>3.0</td>\n",
              "      <td>7.7</td>\n",
              "    </tr>\n",
              "    <tr>\n",
              "      <th>189</th>\n",
              "      <td>Vietnam</td>\n",
              "      <td>111.0</td>\n",
              "      <td>2.0</td>\n",
              "      <td>1.0</td>\n",
              "      <td>2.0</td>\n",
              "    </tr>\n",
              "    <tr>\n",
              "      <th>190</th>\n",
              "      <td>Yemen</td>\n",
              "      <td>6.0</td>\n",
              "      <td>NaN</td>\n",
              "      <td>NaN</td>\n",
              "      <td>0.1</td>\n",
              "    </tr>\n",
              "    <tr>\n",
              "      <th>191</th>\n",
              "      <td>Zambia</td>\n",
              "      <td>32.0</td>\n",
              "      <td>19.0</td>\n",
              "      <td>4.0</td>\n",
              "      <td>2.5</td>\n",
              "    </tr>\n",
              "    <tr>\n",
              "      <th>192</th>\n",
              "      <td>Zimbabwe</td>\n",
              "      <td>64.0</td>\n",
              "      <td>18.0</td>\n",
              "      <td>4.0</td>\n",
              "      <td>4.7</td>\n",
              "    </tr>\n",
              "  </tbody>\n",
              "</table>\n",
              "<p>193 rows × 5 columns</p>\n",
              "</div>\n",
              "      <button class=\"colab-df-convert\" onclick=\"convertToInteractive('df-b3cf5287-8f66-4efc-8a02-1bafa9831aea')\"\n",
              "              title=\"Convert this dataframe to an interactive table.\"\n",
              "              style=\"display:none;\">\n",
              "        \n",
              "  <svg xmlns=\"http://www.w3.org/2000/svg\" height=\"24px\"viewBox=\"0 0 24 24\"\n",
              "       width=\"24px\">\n",
              "    <path d=\"M0 0h24v24H0V0z\" fill=\"none\"/>\n",
              "    <path d=\"M18.56 5.44l.94 2.06.94-2.06 2.06-.94-2.06-.94-.94-2.06-.94 2.06-2.06.94zm-11 1L8.5 8.5l.94-2.06 2.06-.94-2.06-.94L8.5 2.5l-.94 2.06-2.06.94zm10 10l.94 2.06.94-2.06 2.06-.94-2.06-.94-.94-2.06-.94 2.06-2.06.94z\"/><path d=\"M17.41 7.96l-1.37-1.37c-.4-.4-.92-.59-1.43-.59-.52 0-1.04.2-1.43.59L10.3 9.45l-7.72 7.72c-.78.78-.78 2.05 0 2.83L4 21.41c.39.39.9.59 1.41.59.51 0 1.02-.2 1.41-.59l7.78-7.78 2.81-2.81c.8-.78.8-2.07 0-2.86zM5.41 20L4 18.59l7.72-7.72 1.47 1.35L5.41 20z\"/>\n",
              "  </svg>\n",
              "      </button>\n",
              "      \n",
              "  <style>\n",
              "    .colab-df-container {\n",
              "      display:flex;\n",
              "      flex-wrap:wrap;\n",
              "      gap: 12px;\n",
              "    }\n",
              "\n",
              "    .colab-df-convert {\n",
              "      background-color: #E8F0FE;\n",
              "      border: none;\n",
              "      border-radius: 50%;\n",
              "      cursor: pointer;\n",
              "      display: none;\n",
              "      fill: #1967D2;\n",
              "      height: 32px;\n",
              "      padding: 0 0 0 0;\n",
              "      width: 32px;\n",
              "    }\n",
              "\n",
              "    .colab-df-convert:hover {\n",
              "      background-color: #E2EBFA;\n",
              "      box-shadow: 0px 1px 2px rgba(60, 64, 67, 0.3), 0px 1px 3px 1px rgba(60, 64, 67, 0.15);\n",
              "      fill: #174EA6;\n",
              "    }\n",
              "\n",
              "    [theme=dark] .colab-df-convert {\n",
              "      background-color: #3B4455;\n",
              "      fill: #D2E3FC;\n",
              "    }\n",
              "\n",
              "    [theme=dark] .colab-df-convert:hover {\n",
              "      background-color: #434B5C;\n",
              "      box-shadow: 0px 1px 3px 1px rgba(0, 0, 0, 0.15);\n",
              "      filter: drop-shadow(0px 1px 2px rgba(0, 0, 0, 0.3));\n",
              "      fill: #FFFFFF;\n",
              "    }\n",
              "  </style>\n",
              "\n",
              "      <script>\n",
              "        const buttonEl =\n",
              "          document.querySelector('#df-b3cf5287-8f66-4efc-8a02-1bafa9831aea button.colab-df-convert');\n",
              "        buttonEl.style.display =\n",
              "          google.colab.kernel.accessAllowed ? 'block' : 'none';\n",
              "\n",
              "        async function convertToInteractive(key) {\n",
              "          const element = document.querySelector('#df-b3cf5287-8f66-4efc-8a02-1bafa9831aea');\n",
              "          const dataTable =\n",
              "            await google.colab.kernel.invokeFunction('convertToInteractive',\n",
              "                                                     [key], {});\n",
              "          if (!dataTable) return;\n",
              "\n",
              "          const docLinkHtml = 'Like what you see? Visit the ' +\n",
              "            '<a target=\"_blank\" href=https://colab.research.google.com/notebooks/data_table.ipynb>data table notebook</a>'\n",
              "            + ' to learn more about interactive tables.';\n",
              "          element.innerHTML = '';\n",
              "          dataTable['output_type'] = 'display_data';\n",
              "          await google.colab.output.renderOutput(dataTable, element);\n",
              "          const docLink = document.createElement('div');\n",
              "          docLink.innerHTML = docLinkHtml;\n",
              "          element.appendChild(docLink);\n",
              "        }\n",
              "      </script>\n",
              "    </div>\n",
              "  </div>\n",
              "  "
            ]
          },
          "metadata": {},
          "execution_count": 61
        }
      ]
    },
    {
      "cell_type": "code",
      "source": [
        "alcohol = pd.read_csv(\"https://andybek.com/pandas-drinks\", usecols=['country','wine_servings'], index_col='country',squeeze=True)"
      ],
      "metadata": {
        "id": "4aP0OwqseBqd"
      },
      "execution_count": 62,
      "outputs": []
    },
    {
      "cell_type": "code",
      "source": [
        "alcohol"
      ],
      "metadata": {
        "colab": {
          "base_uri": "https://localhost:8080/"
        },
        "id": "XsTNNUAKeZwk",
        "outputId": "0cbccfb1-8db2-4dd3-d407-172b9cd76f30"
      },
      "execution_count": 63,
      "outputs": [
        {
          "output_type": "execute_result",
          "data": {
            "text/plain": [
              "country\n",
              "Afghanistan      NaN\n",
              "Albania         54.0\n",
              "Algeria         14.0\n",
              "Andorra        312.0\n",
              "Angola          45.0\n",
              "               ...  \n",
              "Venezuela        3.0\n",
              "Vietnam          1.0\n",
              "Yemen            NaN\n",
              "Zambia           4.0\n",
              "Zimbabwe         4.0\n",
              "Name: wine_servings, Length: 193, dtype: float64"
            ]
          },
          "metadata": {},
          "execution_count": 63
        }
      ]
    },
    {
      "cell_type": "code",
      "source": [
        "alcohol.size"
      ],
      "metadata": {
        "colab": {
          "base_uri": "https://localhost:8080/"
        },
        "id": "4qwN6LAgfUmZ",
        "outputId": "6a37fa43-35d9-4199-e4a8-a8a93f310a5f"
      },
      "execution_count": 64,
      "outputs": [
        {
          "output_type": "execute_result",
          "data": {
            "text/plain": [
              "193"
            ]
          },
          "metadata": {},
          "execution_count": 64
        }
      ]
    },
    {
      "cell_type": "code",
      "source": [
        "alcohol.values"
      ],
      "metadata": {
        "colab": {
          "base_uri": "https://localhost:8080/"
        },
        "id": "AfCuL5Qcfsfk",
        "outputId": "05f0f3a6-7e19-43f8-b97b-931f9e69560a"
      },
      "execution_count": 65,
      "outputs": [
        {
          "output_type": "execute_result",
          "data": {
            "text/plain": [
              "array([ nan,  54.,  14., 312.,  45.,  45., 221.,  11., 212., 191.,   5.,\n",
              "        51.,   7.,  nan,  36.,  42., 212.,   8.,  13.,  nan,   8.,   8.,\n",
              "        35.,  16.,   1.,  94.,   7.,  nan,   7.,  16.,   1.,   4.,   1.,\n",
              "         1.,   1., 172.,   8.,   3.,   1.,   9.,  74.,  11., 254.,   5.,\n",
              "       113., 134.,  nan,   1., 278.,   3.,  26.,   9.,   3.,   1.,   2.,\n",
              "       233.,  nan,  59.,  nan,   1.,  97.,  37.,  59.,   1., 149., 175.,\n",
              "         1., 218.,  28.,   2.,   2.,  21.,   1.,   1.,   2., 185.,  78.,\n",
              "        nan,  nan,  nan,  nan, 165.,   9., 237.,   9.,  16.,   1.,  12.,\n",
              "         2.,   1.,  nan,   6., 123.,  62.,  31.,  nan,   2.,  nan,  56.,\n",
              "       271.,   4.,   1.,  nan,  nan,   1.,  12.,  nan,  nan,  18.,   5.,\n",
              "        18.,  nan,   8., 128.,   1.,   5.,  nan,   1.,   8.,  nan,  19.,\n",
              "       175.,   1.,   1.,   2.,   7., 129.,   1.,  nan,  23.,  18.,   1.,\n",
              "        74.,  21.,   1.,  56., 339.,   7.,   9.,  18., 167.,  73.,  nan,\n",
              "        32.,  71.,  11.,  24.,  nan,  14.,  nan,   7., 127.,  51.,   2.,\n",
              "        11., 116., 276.,   1.,  nan,  81., 112.,  nan,  nan,   7.,   2.,\n",
              "       186.,  28.,  16.,  nan,   1.,  86.,   4.,  19.,   5.,   7.,   2.,\n",
              "         7.,  32.,   9.,  nan,  45.,   5., 195.,   1.,  84.,  22.,   8.,\n",
              "        11.,   3.,   1.,  nan,   4.,   4.])"
            ]
          },
          "metadata": {},
          "execution_count": 65
        }
      ]
    },
    {
      "cell_type": "code",
      "source": [
        "alcohol.index"
      ],
      "metadata": {
        "colab": {
          "base_uri": "https://localhost:8080/"
        },
        "id": "jFM7ewIhfzqj",
        "outputId": "42ebf08e-9d42-4cfa-9c5a-bb57b7ab6e45"
      },
      "execution_count": 66,
      "outputs": [
        {
          "output_type": "execute_result",
          "data": {
            "text/plain": [
              "Index(['Afghanistan', 'Albania', 'Algeria', 'Andorra', 'Angola',\n",
              "       'Antigua & Barbuda', 'Argentina', 'Armenia', 'Australia', 'Austria',\n",
              "       ...\n",
              "       'Tanzania', 'USA', 'Uruguay', 'Uzbekistan', 'Vanuatu', 'Venezuela',\n",
              "       'Vietnam', 'Yemen', 'Zambia', 'Zimbabwe'],\n",
              "      dtype='object', name='country', length=193)"
            ]
          },
          "metadata": {},
          "execution_count": 66
        }
      ]
    },
    {
      "cell_type": "code",
      "source": [
        "alcohol.values.size == alcohol.index.size"
      ],
      "metadata": {
        "colab": {
          "base_uri": "https://localhost:8080/"
        },
        "id": "cQMlWcr8f2cR",
        "outputId": "0c720d19-2dbc-4144-d2e4-ff1522807985"
      },
      "execution_count": 67,
      "outputs": [
        {
          "output_type": "execute_result",
          "data": {
            "text/plain": [
              "True"
            ]
          },
          "metadata": {},
          "execution_count": 67
        }
      ]
    },
    {
      "cell_type": "code",
      "source": [
        "alcohol.shape"
      ],
      "metadata": {
        "colab": {
          "base_uri": "https://localhost:8080/"
        },
        "id": "miuukx-Zf7xy",
        "outputId": "f77b03b0-d883-410e-eaa2-f7dd30d9fe2f"
      },
      "execution_count": 68,
      "outputs": [
        {
          "output_type": "execute_result",
          "data": {
            "text/plain": [
              "(193,)"
            ]
          },
          "metadata": {},
          "execution_count": 68
        }
      ]
    },
    {
      "cell_type": "code",
      "source": [
        "len(alcohol)"
      ],
      "metadata": {
        "colab": {
          "base_uri": "https://localhost:8080/"
        },
        "id": "z0uORfZugD3W",
        "outputId": "78409282-8e24-4730-dc92-3bfe2952bc6f"
      },
      "execution_count": 69,
      "outputs": [
        {
          "output_type": "execute_result",
          "data": {
            "text/plain": [
              "193"
            ]
          },
          "metadata": {},
          "execution_count": 69
        }
      ]
    },
    {
      "cell_type": "code",
      "source": [
        ""
      ],
      "metadata": {
        "id": "QFeDR-2JgIQ7"
      },
      "execution_count": 69,
      "outputs": []
    },
    {
      "cell_type": "markdown",
      "source": [
        "Unique Values and Series Monotonicity"
      ],
      "metadata": {
        "id": "PHFPFUdhgb-M"
      }
    },
    {
      "cell_type": "code",
      "source": [
        "alcohol.is_unique"
      ],
      "metadata": {
        "colab": {
          "base_uri": "https://localhost:8080/"
        },
        "id": "CXcg6TGsge66",
        "outputId": "f51367d0-379d-4986-e51c-70649ed17026"
      },
      "execution_count": 70,
      "outputs": [
        {
          "output_type": "execute_result",
          "data": {
            "text/plain": [
              "False"
            ]
          },
          "metadata": {},
          "execution_count": 70
        }
      ]
    },
    {
      "cell_type": "code",
      "source": [
        "alcohol.head().is_unique"
      ],
      "metadata": {
        "colab": {
          "base_uri": "https://localhost:8080/"
        },
        "id": "gEj3Iq0Xgh6F",
        "outputId": "ff4fd7f9-4ef2-46fa-9fb4-e8d7bbf2cf69"
      },
      "execution_count": 71,
      "outputs": [
        {
          "output_type": "execute_result",
          "data": {
            "text/plain": [
              "True"
            ]
          },
          "metadata": {},
          "execution_count": 71
        }
      ]
    },
    {
      "cell_type": "code",
      "source": [
        "alcohol.nunique(dropna=False)"
      ],
      "metadata": {
        "colab": {
          "base_uri": "https://localhost:8080/"
        },
        "id": "QEFhMg5kg16V",
        "outputId": "96acf9ad-a6ac-4117-a374-65efb6e6dca6"
      },
      "execution_count": 72,
      "outputs": [
        {
          "output_type": "execute_result",
          "data": {
            "text/plain": [
              "72"
            ]
          },
          "metadata": {},
          "execution_count": 72
        }
      ]
    },
    {
      "cell_type": "code",
      "source": [
        "pd.Series([1,2,3]).is_monotonic"
      ],
      "metadata": {
        "colab": {
          "base_uri": "https://localhost:8080/"
        },
        "id": "iDVT8JB0gnP0",
        "outputId": "6a60b4ed-46ab-4a8f-f521-2921a926a881"
      },
      "execution_count": 73,
      "outputs": [
        {
          "output_type": "execute_result",
          "data": {
            "text/plain": [
              "True"
            ]
          },
          "metadata": {},
          "execution_count": 73
        }
      ]
    },
    {
      "cell_type": "code",
      "source": [
        "pd.Series([1,2,3,4,5,5,5,]).is_monotonic"
      ],
      "metadata": {
        "colab": {
          "base_uri": "https://localhost:8080/"
        },
        "id": "ZOTMS-c9hAQ5",
        "outputId": "28c45e7d-b1e6-490f-ff8f-6fafdf9300d2"
      },
      "execution_count": 74,
      "outputs": [
        {
          "output_type": "execute_result",
          "data": {
            "text/plain": [
              "True"
            ]
          },
          "metadata": {},
          "execution_count": 74
        }
      ]
    },
    {
      "cell_type": "code",
      "source": [
        "pd.Series([1,2,3,1]).is_monotonic"
      ],
      "metadata": {
        "colab": {
          "base_uri": "https://localhost:8080/"
        },
        "id": "w2yFbcSbhJ9E",
        "outputId": "548b6e5c-8b22-42c6-a522-4f9a39fa0591"
      },
      "execution_count": 75,
      "outputs": [
        {
          "output_type": "execute_result",
          "data": {
            "text/plain": [
              "False"
            ]
          },
          "metadata": {},
          "execution_count": 75
        }
      ]
    },
    {
      "cell_type": "code",
      "source": [
        "alcohol.count()"
      ],
      "metadata": {
        "colab": {
          "base_uri": "https://localhost:8080/"
        },
        "id": "OUGCTiLfhSJV",
        "outputId": "dedb5ce9-4cc4-46cb-d092-ccc36a46672b"
      },
      "execution_count": 76,
      "outputs": [
        {
          "output_type": "execute_result",
          "data": {
            "text/plain": [
              "162"
            ]
          },
          "metadata": {},
          "execution_count": 76
        }
      ]
    },
    {
      "cell_type": "code",
      "source": [
        "alcohol.size"
      ],
      "metadata": {
        "colab": {
          "base_uri": "https://localhost:8080/"
        },
        "id": "_L1ao9AthXLc",
        "outputId": "47d4701c-1afd-437c-d88d-3dcccd59319c"
      },
      "execution_count": 77,
      "outputs": [
        {
          "output_type": "execute_result",
          "data": {
            "text/plain": [
              "193"
            ]
          },
          "metadata": {},
          "execution_count": 77
        }
      ]
    },
    {
      "cell_type": "code",
      "source": [
        "alcohol.isnull()"
      ],
      "metadata": {
        "id": "B1Vz6EHpjneT",
        "outputId": "441d0e56-512f-4d60-8ecf-1f6d4afa4de6",
        "colab": {
          "base_uri": "https://localhost:8080/"
        }
      },
      "execution_count": 78,
      "outputs": [
        {
          "output_type": "execute_result",
          "data": {
            "text/plain": [
              "country\n",
              "Afghanistan     True\n",
              "Albania        False\n",
              "Algeria        False\n",
              "Andorra        False\n",
              "Angola         False\n",
              "               ...  \n",
              "Venezuela      False\n",
              "Vietnam        False\n",
              "Yemen           True\n",
              "Zambia         False\n",
              "Zimbabwe       False\n",
              "Name: wine_servings, Length: 193, dtype: bool"
            ]
          },
          "metadata": {},
          "execution_count": 78
        }
      ]
    },
    {
      "cell_type": "code",
      "source": [
        "alcohol[alcohol.isnull()].index"
      ],
      "metadata": {
        "id": "eFNbIx6Bjqf6",
        "outputId": "7e368015-efd3-4ab5-a292-01da0bd19469",
        "colab": {
          "base_uri": "https://localhost:8080/"
        }
      },
      "execution_count": 79,
      "outputs": [
        {
          "output_type": "execute_result",
          "data": {
            "text/plain": [
              "Index(['Afghanistan', 'Bangladesh', 'Bhutan', 'Burundi', 'North Korea',\n",
              "       'Eritrea', 'Ethiopia', 'India', 'Indonesia', 'Iran', 'Iraq', 'Kuwait',\n",
              "       'Lesotho', 'Libya', 'Malaysia', 'Maldives', 'Marshall Islands',\n",
              "       'Mauritania', 'Monaco', 'Myanmar', 'Nepal', 'Pakistan', 'Rwanda',\n",
              "       'San Marino', 'Saudi Arabia', 'Somalia', 'Sri Lanka', 'Sudan',\n",
              "       'Tajikistan', 'Uganda', 'Yemen'],\n",
              "      dtype='object', name='country')"
            ]
          },
          "metadata": {},
          "execution_count": 79
        }
      ]
    },
    {
      "cell_type": "code",
      "source": [
        "alcohol.isnull().sum()"
      ],
      "metadata": {
        "id": "F8c8Au9Bj1Tq",
        "outputId": "d56489d7-da4b-41e1-97da-bc540af23177",
        "colab": {
          "base_uri": "https://localhost:8080/"
        }
      },
      "execution_count": 80,
      "outputs": [
        {
          "output_type": "execute_result",
          "data": {
            "text/plain": [
              "31"
            ]
          },
          "metadata": {},
          "execution_count": 80
        }
      ]
    },
    {
      "cell_type": "code",
      "source": [
        "import numpy as np\n",
        "alcohol[np.isnan]"
      ],
      "metadata": {
        "id": "wARoV1Q0kGEh",
        "outputId": "12d880fb-b6e6-49ea-8c0a-7fde9c6b118d",
        "colab": {
          "base_uri": "https://localhost:8080/"
        }
      },
      "execution_count": 81,
      "outputs": [
        {
          "output_type": "execute_result",
          "data": {
            "text/plain": [
              "country\n",
              "Afghanistan        NaN\n",
              "Bangladesh         NaN\n",
              "Bhutan             NaN\n",
              "Burundi            NaN\n",
              "North Korea        NaN\n",
              "Eritrea            NaN\n",
              "Ethiopia           NaN\n",
              "India              NaN\n",
              "Indonesia          NaN\n",
              "Iran               NaN\n",
              "Iraq               NaN\n",
              "Kuwait             NaN\n",
              "Lesotho            NaN\n",
              "Libya              NaN\n",
              "Malaysia           NaN\n",
              "Maldives           NaN\n",
              "Marshall Islands   NaN\n",
              "Mauritania         NaN\n",
              "Monaco             NaN\n",
              "Myanmar            NaN\n",
              "Nepal              NaN\n",
              "Pakistan           NaN\n",
              "Rwanda             NaN\n",
              "San Marino         NaN\n",
              "Saudi Arabia       NaN\n",
              "Somalia            NaN\n",
              "Sri Lanka          NaN\n",
              "Sudan              NaN\n",
              "Tajikistan         NaN\n",
              "Uganda             NaN\n",
              "Yemen              NaN\n",
              "Name: wine_servings, dtype: float64"
            ]
          },
          "metadata": {},
          "execution_count": 81
        }
      ]
    },
    {
      "cell_type": "code",
      "source": [
        "alcohol.notnull()"
      ],
      "metadata": {
        "id": "gGtH9aVelY4b",
        "outputId": "5a0c056a-f2ac-406d-ed80-02eb5afa69ee",
        "colab": {
          "base_uri": "https://localhost:8080/"
        }
      },
      "execution_count": 82,
      "outputs": [
        {
          "output_type": "execute_result",
          "data": {
            "text/plain": [
              "country\n",
              "Afghanistan    False\n",
              "Albania         True\n",
              "Algeria         True\n",
              "Andorra         True\n",
              "Angola          True\n",
              "               ...  \n",
              "Venezuela       True\n",
              "Vietnam         True\n",
              "Yemen          False\n",
              "Zambia          True\n",
              "Zimbabwe        True\n",
              "Name: wine_servings, Length: 193, dtype: bool"
            ]
          },
          "metadata": {},
          "execution_count": 82
        }
      ]
    },
    {
      "cell_type": "code",
      "source": [
        "type(True)"
      ],
      "metadata": {
        "id": "WUJ4iBVkxz38",
        "outputId": "c13d32a1-423b-4bb6-edcc-e09127ce7d9e",
        "colab": {
          "base_uri": "https://localhost:8080/"
        }
      },
      "execution_count": 83,
      "outputs": [
        {
          "output_type": "execute_result",
          "data": {
            "text/plain": [
              "bool"
            ]
          },
          "metadata": {},
          "execution_count": 83
        }
      ]
    },
    {
      "cell_type": "code",
      "source": [
        "bool.__mro__"
      ],
      "metadata": {
        "id": "xxN3pNgKyjbk",
        "outputId": "b0934f02-195e-4912-d459-cdb4f7b37c2c",
        "colab": {
          "base_uri": "https://localhost:8080/"
        }
      },
      "execution_count": 84,
      "outputs": [
        {
          "output_type": "execute_result",
          "data": {
            "text/plain": [
              "(bool, int, object)"
            ]
          },
          "metadata": {},
          "execution_count": 84
        }
      ]
    },
    {
      "cell_type": "code",
      "source": [
        "wine_servings = alcohol[alcohol.notnull()]"
      ],
      "metadata": {
        "id": "JT39-WDVyow6"
      },
      "execution_count": 86,
      "outputs": []
    },
    {
      "cell_type": "code",
      "source": [
        "wine_servings"
      ],
      "metadata": {
        "id": "tJt4y5Z2zSL6",
        "outputId": "5d2c2d41-ea6a-4fb8-f977-fb377146148b",
        "colab": {
          "base_uri": "https://localhost:8080/"
        }
      },
      "execution_count": 87,
      "outputs": [
        {
          "output_type": "execute_result",
          "data": {
            "text/plain": [
              "country\n",
              "Albania               54.0\n",
              "Algeria               14.0\n",
              "Andorra              312.0\n",
              "Angola                45.0\n",
              "Antigua & Barbuda     45.0\n",
              "                     ...  \n",
              "Vanuatu               11.0\n",
              "Venezuela              3.0\n",
              "Vietnam                1.0\n",
              "Zambia                 4.0\n",
              "Zimbabwe               4.0\n",
              "Name: wine_servings, Length: 162, dtype: float64"
            ]
          },
          "metadata": {},
          "execution_count": 87
        }
      ]
    },
    {
      "cell_type": "code",
      "source": [
        "wine_servings.sum()"
      ],
      "metadata": {
        "id": "LAVQUAgCzVa7",
        "outputId": "bdd0ad5e-fe2e-47ce-fe4b-6acee886e47f",
        "colab": {
          "base_uri": "https://localhost:8080/"
        }
      },
      "execution_count": 88,
      "outputs": [
        {
          "output_type": "execute_result",
          "data": {
            "text/plain": [
              "8221.0"
            ]
          },
          "metadata": {},
          "execution_count": 88
        }
      ]
    },
    {
      "cell_type": "code",
      "source": [
        "wine_servings[wine_servings<100]"
      ],
      "metadata": {
        "id": "qF1oiN-Bzg6a",
        "outputId": "32ec586e-81d6-44ff-8a02-70bcd794d3b5",
        "colab": {
          "base_uri": "https://localhost:8080/"
        }
      },
      "execution_count": 89,
      "outputs": [
        {
          "output_type": "execute_result",
          "data": {
            "text/plain": [
              "country\n",
              "Albania              54.0\n",
              "Algeria              14.0\n",
              "Angola               45.0\n",
              "Antigua & Barbuda    45.0\n",
              "Armenia              11.0\n",
              "                     ... \n",
              "Vanuatu              11.0\n",
              "Venezuela             3.0\n",
              "Vietnam               1.0\n",
              "Zambia                4.0\n",
              "Zimbabwe              4.0\n",
              "Name: wine_servings, Length: 132, dtype: float64"
            ]
          },
          "metadata": {},
          "execution_count": 89
        }
      ]
    },
    {
      "cell_type": "code",
      "source": [
        "alcohol.dropna()"
      ],
      "metadata": {
        "id": "W_F4Wi7mzr7y",
        "outputId": "3d2fdc01-8275-48ca-d3ba-a60772942e21",
        "colab": {
          "base_uri": "https://localhost:8080/"
        }
      },
      "execution_count": 90,
      "outputs": [
        {
          "output_type": "execute_result",
          "data": {
            "text/plain": [
              "country\n",
              "Albania               54.0\n",
              "Algeria               14.0\n",
              "Andorra              312.0\n",
              "Angola                45.0\n",
              "Antigua & Barbuda     45.0\n",
              "                     ...  \n",
              "Vanuatu               11.0\n",
              "Venezuela              3.0\n",
              "Vietnam                1.0\n",
              "Zambia                 4.0\n",
              "Zimbabwe               4.0\n",
              "Name: wine_servings, Length: 162, dtype: float64"
            ]
          },
          "metadata": {},
          "execution_count": 90
        }
      ]
    },
    {
      "cell_type": "code",
      "source": [
        "#alcohol.dropna(inplace=True)"
      ],
      "metadata": {
        "id": "a75OSbCY0X-R"
      },
      "execution_count": 91,
      "outputs": []
    },
    {
      "cell_type": "code",
      "source": [
        "alcohol.fillna(10)"
      ],
      "metadata": {
        "id": "u5_ygoel0ngq",
        "outputId": "40e13ef4-2719-44c4-a559-00ecd37964fa",
        "colab": {
          "base_uri": "https://localhost:8080/"
        }
      },
      "execution_count": 92,
      "outputs": [
        {
          "output_type": "execute_result",
          "data": {
            "text/plain": [
              "country\n",
              "Afghanistan     10.0\n",
              "Albania         54.0\n",
              "Algeria         14.0\n",
              "Andorra        312.0\n",
              "Angola          45.0\n",
              "               ...  \n",
              "Venezuela        3.0\n",
              "Vietnam          1.0\n",
              "Yemen           10.0\n",
              "Zambia           4.0\n",
              "Zimbabwe         4.0\n",
              "Name: wine_servings, Length: 193, dtype: float64"
            ]
          },
          "metadata": {},
          "execution_count": 92
        }
      ]
    },
    {
      "cell_type": "code",
      "source": [
        ""
      ],
      "metadata": {
        "id": "wegILJa50sjc"
      },
      "execution_count": null,
      "outputs": []
    }
  ]
}