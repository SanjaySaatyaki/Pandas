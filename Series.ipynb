{
  "nbformat": 4,
  "nbformat_minor": 0,
  "metadata": {
    "colab": {
      "name": "Untitled0.ipynb",
      "provenance": [],
      "authorship_tag": "ABX9TyOKHIWReDHHTSFsjqG5ox6/",
      "include_colab_link": true
    },
    "kernelspec": {
      "name": "python3",
      "display_name": "Python 3"
    },
    "language_info": {
      "name": "python"
    }
  },
  "cells": [
    {
      "cell_type": "markdown",
      "metadata": {
        "id": "view-in-github",
        "colab_type": "text"
      },
      "source": [
        "<a href=\"https://colab.research.google.com/github/SanjaySaatyaki/Pandas/blob/main/Series.ipynb\" target=\"_parent\"><img src=\"https://colab.research.google.com/assets/colab-badge.svg\" alt=\"Open In Colab\"/></a>"
      ]
    },
    {
      "cell_type": "code",
      "execution_count": 1,
      "metadata": {
        "id": "GWwksHHXyLCq"
      },
      "outputs": [],
      "source": [
        "students = [\"A\",\"B\",\"C\"]"
      ]
    },
    {
      "cell_type": "code",
      "source": [
        "type(students)"
      ],
      "metadata": {
        "id": "sKFExNxS0XCm",
        "outputId": "00599c60-adcd-48db-fcbe-0f00e465fea2",
        "colab": {
          "base_uri": "https://localhost:8080/"
        }
      },
      "execution_count": 2,
      "outputs": [
        {
          "output_type": "execute_result",
          "data": {
            "text/plain": [
              "list"
            ]
          },
          "metadata": {},
          "execution_count": 2
        }
      ]
    },
    {
      "cell_type": "code",
      "source": [
        "import pandas as pd\n",
        "pd.Series(students)"
      ],
      "metadata": {
        "id": "VM9L5Oj00b2i",
        "outputId": "da675aa2-c44c-466a-a3e0-e195b867eab5",
        "colab": {
          "base_uri": "https://localhost:8080/"
        }
      },
      "execution_count": 3,
      "outputs": [
        {
          "output_type": "execute_result",
          "data": {
            "text/plain": [
              "0    A\n",
              "1    B\n",
              "2    C\n",
              "dtype: object"
            ]
          },
          "metadata": {},
          "execution_count": 3
        }
      ]
    },
    {
      "cell_type": "code",
      "source": [
        "\n",
        "ages = [27,30,40]"
      ],
      "metadata": {
        "id": "LzAYD1tU0mty"
      },
      "execution_count": 4,
      "outputs": []
    },
    {
      "cell_type": "code",
      "source": [
        "pd.Series(ages)"
      ],
      "metadata": {
        "id": "aRKds-zu0twa",
        "outputId": "255eb5e1-2af1-446d-bd1e-7706152ad71c",
        "colab": {
          "base_uri": "https://localhost:8080/"
        }
      },
      "execution_count": 5,
      "outputs": [
        {
          "output_type": "execute_result",
          "data": {
            "text/plain": [
              "0    27\n",
              "1    30\n",
              "2    40\n",
              "dtype: int64"
            ]
          },
          "metadata": {},
          "execution_count": 5
        }
      ]
    },
    {
      "cell_type": "code",
      "source": [
        "heights = [5.4,6.1,5.9]\n",
        "pd.Series(heights)"
      ],
      "metadata": {
        "id": "zpug5fa90v36",
        "outputId": "f1cc4231-53a3-4d0d-f647-ecb306434618",
        "colab": {
          "base_uri": "https://localhost:8080/"
        }
      },
      "execution_count": 6,
      "outputs": [
        {
          "output_type": "execute_result",
          "data": {
            "text/plain": [
              "0    5.4\n",
              "1    6.1\n",
              "2    5.9\n",
              "dtype: float64"
            ]
          },
          "metadata": {},
          "execution_count": 6
        }
      ]
    },
    {
      "cell_type": "code",
      "source": [
        "mixed = [True,\"hello\",{\"key\":\"value\"}]"
      ],
      "metadata": {
        "id": "SBgQSsq605qU"
      },
      "execution_count": 7,
      "outputs": []
    },
    {
      "cell_type": "code",
      "source": [
        "\n",
        "pd.Series(mixed)"
      ],
      "metadata": {
        "id": "Y9RBBqnr1UKB",
        "outputId": "496acc15-d3f1-4d5e-8fe9-d6efc3ad2c59",
        "colab": {
          "base_uri": "https://localhost:8080/"
        }
      },
      "execution_count": 8,
      "outputs": [
        {
          "output_type": "execute_result",
          "data": {
            "text/plain": [
              "0                True\n",
              "1               hello\n",
              "2    {'key': 'value'}\n",
              "dtype: object"
            ]
          },
          "metadata": {},
          "execution_count": 8
        }
      ]
    },
    {
      "cell_type": "markdown",
      "source": [
        "# Parameters Vs Arguments"
      ],
      "metadata": {
        "id": "UPc50m2v1kyR"
      }
    },
    {
      "cell_type": "code",
      "source": [
        "pd.Series(data=students)"
      ],
      "metadata": {
        "id": "UrNASY9Y1pCR",
        "colab": {
          "base_uri": "https://localhost:8080/"
        },
        "outputId": "6e6b9660-3552-42bb-8027-b8f4fd862644"
      },
      "execution_count": 9,
      "outputs": [
        {
          "output_type": "execute_result",
          "data": {
            "text/plain": [
              "0    A\n",
              "1    B\n",
              "2    C\n",
              "dtype: object"
            ]
          },
          "metadata": {},
          "execution_count": 9
        }
      ]
    },
    {
      "cell_type": "code",
      "source": [
        "books_list = [\"ikagai\",\"psychology of money\",\"clean code\"]"
      ],
      "metadata": {
        "id": "r78dDOKVyWny"
      },
      "execution_count": 10,
      "outputs": []
    },
    {
      "cell_type": "code",
      "source": [
        "list_a = pd.Series(books_list)"
      ],
      "metadata": {
        "id": "BN4q3q4oywlr"
      },
      "execution_count": 11,
      "outputs": []
    },
    {
      "cell_type": "code",
      "source": [
        "books_dict = {0:\"ikagai\",1:\"psychology of money\",2:\"clean code\"}"
      ],
      "metadata": {
        "id": "clHZqc98y0g2"
      },
      "execution_count": 12,
      "outputs": []
    },
    {
      "cell_type": "code",
      "source": [
        "books_a = pd.Series(books_dict)"
      ],
      "metadata": {
        "id": "R6MLt_eAzEIn"
      },
      "execution_count": 13,
      "outputs": []
    },
    {
      "cell_type": "code",
      "source": [
        "list_a.equals(books_a)"
      ],
      "metadata": {
        "colab": {
          "base_uri": "https://localhost:8080/"
        },
        "id": "UUZ7qmx5zGrK",
        "outputId": "766c6ab6-bed6-4c62-d1a2-69573492acfe"
      },
      "execution_count": 14,
      "outputs": [
        {
          "output_type": "execute_result",
          "data": {
            "text/plain": [
              "True"
            ]
          },
          "metadata": {},
          "execution_count": 14
        }
      ]
    },
    {
      "cell_type": "markdown",
      "source": [
        ".dtype\n"
      ],
      "metadata": {
        "id": "y6bH7jgH0HfR"
      }
    },
    {
      "cell_type": "code",
      "source": [
        "pd.Series(ages,dtype=\"float\")"
      ],
      "metadata": {
        "colab": {
          "base_uri": "https://localhost:8080/"
        },
        "id": "rHsOsy8u0PXn",
        "outputId": "7410b20a-d1cf-4657-f5d6-e9afb3ede1ce"
      },
      "execution_count": 15,
      "outputs": [
        {
          "output_type": "execute_result",
          "data": {
            "text/plain": [
              "0    27.0\n",
              "1    30.0\n",
              "2    40.0\n",
              "dtype: float64"
            ]
          },
          "metadata": {},
          "execution_count": 15
        }
      ]
    },
    {
      "cell_type": "code",
      "source": [
        "name_series = pd.Series(students)"
      ],
      "metadata": {
        "id": "l2ZQ2LCK0VYW"
      },
      "execution_count": 16,
      "outputs": []
    },
    {
      "cell_type": "code",
      "source": [
        "name_series.dtype"
      ],
      "metadata": {
        "colab": {
          "base_uri": "https://localhost:8080/"
        },
        "id": "kTsuiLoQ0jkW",
        "outputId": "935e519a-4c56-4c57-d22e-9d5d63fb7674"
      },
      "execution_count": 17,
      "outputs": [
        {
          "output_type": "execute_result",
          "data": {
            "text/plain": [
              "dtype('O')"
            ]
          },
          "metadata": {},
          "execution_count": 17
        }
      ]
    },
    {
      "cell_type": "markdown",
      "source": [
        "Custom Index"
      ],
      "metadata": {
        "id": "evFrlaz51Q0g"
      }
    },
    {
      "cell_type": "code",
      "source": [
        "pd.Series(books_list,[\"Motivation\",\"Finance\",\"Coding\"])"
      ],
      "metadata": {
        "colab": {
          "base_uri": "https://localhost:8080/"
        },
        "id": "fliPdI7s1SiA",
        "outputId": "d266dd90-1e6c-41b0-8870-692b4a76549b"
      },
      "execution_count": 18,
      "outputs": [
        {
          "output_type": "execute_result",
          "data": {
            "text/plain": [
              "Motivation                 ikagai\n",
              "Finance       psychology of money\n",
              "Coding                 clean code\n",
              "dtype: object"
            ]
          },
          "metadata": {},
          "execution_count": 18
        }
      ]
    },
    {
      "cell_type": "code",
      "source": [
        "book_series = books_a"
      ],
      "metadata": {
        "id": "Lyxh8vrh1alw"
      },
      "execution_count": 19,
      "outputs": []
    },
    {
      "cell_type": "code",
      "source": [
        "book_series.name = \"Books i have Read\""
      ],
      "metadata": {
        "id": "J-YvKihMGoTr"
      },
      "execution_count": 20,
      "outputs": []
    },
    {
      "cell_type": "code",
      "source": [
        "book_series.index.name = \"Catagory\""
      ],
      "metadata": {
        "id": "_JWtBnSkGrlC"
      },
      "execution_count": 21,
      "outputs": []
    },
    {
      "cell_type": "code",
      "source": [
        "book_series"
      ],
      "metadata": {
        "colab": {
          "base_uri": "https://localhost:8080/"
        },
        "id": "eie6yetPGvsa",
        "outputId": "f2c2b4e8-a5d1-4f92-90c0-9b7c1ea28423"
      },
      "execution_count": 22,
      "outputs": [
        {
          "output_type": "execute_result",
          "data": {
            "text/plain": [
              "Catagory\n",
              "0                 ikagai\n",
              "1    psychology of money\n",
              "2             clean code\n",
              "Name: Books i have Read, dtype: object"
            ]
          },
          "metadata": {},
          "execution_count": 22
        }
      ]
    },
    {
      "cell_type": "code",
      "source": [
        "actors = [\"A\",\"B\",\"C\"]\n",
        "age = [10,20,30]"
      ],
      "metadata": {
        "id": "kNhTFpxAGx1C"
      },
      "execution_count": 23,
      "outputs": []
    },
    {
      "cell_type": "code",
      "source": [
        "pd.Series(ages,actors)"
      ],
      "metadata": {
        "colab": {
          "base_uri": "https://localhost:8080/"
        },
        "id": "050_zCSWHJuS",
        "outputId": "90fb9da6-d17a-41d2-8701-4ec685a0acf4"
      },
      "execution_count": 25,
      "outputs": [
        {
          "output_type": "execute_result",
          "data": {
            "text/plain": [
              "A    27\n",
              "B    30\n",
              "C    40\n",
              "dtype: int64"
            ]
          },
          "metadata": {},
          "execution_count": 25
        }
      ]
    },
    {
      "cell_type": "code",
      "source": [
        "actors_dict = dict(zip(actors,ages))\n",
        "pd.Series(actors_dict)"
      ],
      "metadata": {
        "colab": {
          "base_uri": "https://localhost:8080/"
        },
        "id": "prObS6xHHOsy",
        "outputId": "d251e945-95a7-4e95-fb69-b62e39c72ddc"
      },
      "execution_count": 26,
      "outputs": [
        {
          "output_type": "execute_result",
          "data": {
            "text/plain": [
              "A    27\n",
              "B    30\n",
              "C    40\n",
              "dtype: int64"
            ]
          },
          "metadata": {},
          "execution_count": 26
        }
      ]
    },
    {
      "cell_type": "code",
      "source": [
        "int_series = pd.Series(range(60))"
      ],
      "metadata": {
        "id": "r2D8_wOPHpWM"
      },
      "execution_count": 27,
      "outputs": []
    },
    {
      "cell_type": "code",
      "source": [
        "int_series.size"
      ],
      "metadata": {
        "colab": {
          "base_uri": "https://localhost:8080/"
        },
        "id": "GS8DhvCvI6-b",
        "outputId": "94322b7b-6d80-45a1-f8fe-e9a5bfe5b543"
      },
      "execution_count": 28,
      "outputs": [
        {
          "output_type": "execute_result",
          "data": {
            "text/plain": [
              "60"
            ]
          },
          "metadata": {},
          "execution_count": 28
        }
      ]
    },
    {
      "cell_type": "code",
      "source": [
        "int_series.head()"
      ],
      "metadata": {
        "colab": {
          "base_uri": "https://localhost:8080/"
        },
        "id": "JtK-7C71I9lq",
        "outputId": "95fba565-066d-4d80-a8be-2a8ba6bd611b"
      },
      "execution_count": 29,
      "outputs": [
        {
          "output_type": "execute_result",
          "data": {
            "text/plain": [
              "0    0\n",
              "1    1\n",
              "2    2\n",
              "3    3\n",
              "4    4\n",
              "dtype: int64"
            ]
          },
          "metadata": {},
          "execution_count": 29
        }
      ]
    },
    {
      "cell_type": "code",
      "source": [
        "int_series.tail()"
      ],
      "metadata": {
        "colab": {
          "base_uri": "https://localhost:8080/"
        },
        "id": "DTyYK4C3JEmz",
        "outputId": "f666c3fb-44df-40f9-a150-221bd56e7e68"
      },
      "execution_count": 30,
      "outputs": [
        {
          "output_type": "execute_result",
          "data": {
            "text/plain": [
              "55    55\n",
              "56    56\n",
              "57    57\n",
              "58    58\n",
              "59    59\n",
              "dtype: int64"
            ]
          },
          "metadata": {},
          "execution_count": 30
        }
      ]
    },
    {
      "cell_type": "code",
      "source": [
        "int_series.tail(n=10)"
      ],
      "metadata": {
        "colab": {
          "base_uri": "https://localhost:8080/"
        },
        "id": "qmnO2F-WJNP8",
        "outputId": "b911c8e0-0f0d-485e-b27d-6688edfc4225"
      },
      "execution_count": 31,
      "outputs": [
        {
          "output_type": "execute_result",
          "data": {
            "text/plain": [
              "50    50\n",
              "51    51\n",
              "52    52\n",
              "53    53\n",
              "54    54\n",
              "55    55\n",
              "56    56\n",
              "57    57\n",
              "58    58\n",
              "59    59\n",
              "dtype: int64"
            ]
          },
          "metadata": {},
          "execution_count": 31
        }
      ]
    },
    {
      "cell_type": "code",
      "source": [
        "from string import ascii_lowercase"
      ],
      "metadata": {
        "id": "Ox1UHzGPJP5D"
      },
      "execution_count": 32,
      "outputs": []
    },
    {
      "cell_type": "code",
      "source": [
        "ascii_lowercase"
      ],
      "metadata": {
        "colab": {
          "base_uri": "https://localhost:8080/",
          "height": 35
        },
        "id": "1vTbPHbnJk5L",
        "outputId": "43e62a77-b595-447f-cc8c-030c0700998b"
      },
      "execution_count": 33,
      "outputs": [
        {
          "output_type": "execute_result",
          "data": {
            "text/plain": [
              "'abcdefghijklmnopqrstuvwxyz'"
            ],
            "application/vnd.google.colaboratory.intrinsic+json": {
              "type": "string"
            }
          },
          "metadata": {},
          "execution_count": 33
        }
      ]
    },
    {
      "cell_type": "code",
      "source": [
        "alphabet = pd.Series(list(ascii_lowercase))"
      ],
      "metadata": {
        "id": "CCF9v5PTJmkM"
      },
      "execution_count": 35,
      "outputs": []
    },
    {
      "cell_type": "code",
      "source": [
        "alphabet.head()"
      ],
      "metadata": {
        "colab": {
          "base_uri": "https://localhost:8080/"
        },
        "id": "yakKLj6DJwKD",
        "outputId": "c1baa0e2-e217-4b2d-b592-40de25ae22a5"
      },
      "execution_count": 36,
      "outputs": [
        {
          "output_type": "execute_result",
          "data": {
            "text/plain": [
              "0    a\n",
              "1    b\n",
              "2    c\n",
              "3    d\n",
              "4    e\n",
              "dtype: object"
            ]
          },
          "metadata": {},
          "execution_count": 36
        }
      ]
    },
    {
      "cell_type": "code",
      "source": [
        "alphabet[0:-1]"
      ],
      "metadata": {
        "colab": {
          "base_uri": "https://localhost:8080/"
        },
        "id": "0mRIkU3aJzKE",
        "outputId": "68e85e87-6c96-4996-d088-e358d832f4be"
      },
      "execution_count": 38,
      "outputs": [
        {
          "output_type": "execute_result",
          "data": {
            "text/plain": [
              "0     a\n",
              "1     b\n",
              "2     c\n",
              "3     d\n",
              "4     e\n",
              "5     f\n",
              "6     g\n",
              "7     h\n",
              "8     i\n",
              "9     j\n",
              "10    k\n",
              "11    l\n",
              "12    m\n",
              "13    n\n",
              "14    o\n",
              "15    p\n",
              "16    q\n",
              "17    r\n",
              "18    s\n",
              "19    t\n",
              "20    u\n",
              "21    v\n",
              "22    w\n",
              "23    x\n",
              "24    y\n",
              "dtype: object"
            ]
          },
          "metadata": {},
          "execution_count": 38
        }
      ]
    },
    {
      "cell_type": "code",
      "source": [
        "alphabet[-6:]"
      ],
      "metadata": {
        "colab": {
          "base_uri": "https://localhost:8080/"
        },
        "id": "mVzcKz9UKADK",
        "outputId": "d419ae4d-c9ca-4716-bf90-b8d8646a5e47"
      },
      "execution_count": 39,
      "outputs": [
        {
          "output_type": "execute_result",
          "data": {
            "text/plain": [
              "20    u\n",
              "21    v\n",
              "22    w\n",
              "23    x\n",
              "24    y\n",
              "25    z\n",
              "dtype: object"
            ]
          },
          "metadata": {},
          "execution_count": 39
        }
      ]
    },
    {
      "cell_type": "code",
      "source": [
        "from string import ascii_uppercase"
      ],
      "metadata": {
        "id": "8YJT_SfbKR6m"
      },
      "execution_count": 40,
      "outputs": []
    },
    {
      "cell_type": "code",
      "source": [
        "labeled_alphabet = pd.Series(data=list(ascii_lowercase),index=map(lambda x: 'label_'+x,list(ascii_uppercase)))"
      ],
      "metadata": {
        "id": "7-lRd31JMtQ7"
      },
      "execution_count": 44,
      "outputs": []
    },
    {
      "cell_type": "code",
      "source": [
        "labeled_alphabet.head()"
      ],
      "metadata": {
        "id": "oHP_V7J-M4vr",
        "outputId": "b24a4b17-eb88-44f9-e594-56d0aed7e41b",
        "colab": {
          "base_uri": "https://localhost:8080/"
        }
      },
      "execution_count": 45,
      "outputs": [
        {
          "output_type": "execute_result",
          "data": {
            "text/plain": [
              "label_A    a\n",
              "label_B    b\n",
              "label_C    c\n",
              "label_D    d\n",
              "label_E    e\n",
              "dtype: object"
            ]
          },
          "metadata": {},
          "execution_count": 45
        }
      ]
    },
    {
      "cell_type": "code",
      "source": [
        "labeled_alphabet[0]"
      ],
      "metadata": {
        "id": "lNaGXqR2M7bj",
        "outputId": "c146941d-d40e-42e0-cf26-df3d21d887fc",
        "colab": {
          "base_uri": "https://localhost:8080/",
          "height": 35
        }
      },
      "execution_count": 46,
      "outputs": [
        {
          "output_type": "execute_result",
          "data": {
            "text/plain": [
              "'a'"
            ],
            "application/vnd.google.colaboratory.intrinsic+json": {
              "type": "string"
            }
          },
          "metadata": {},
          "execution_count": 46
        }
      ]
    },
    {
      "cell_type": "code",
      "source": [
        "labeled_alphabet['label_A']"
      ],
      "metadata": {
        "id": "e_6yYee2NwRD",
        "outputId": "a555c8e1-5cfd-4b24-f1a3-53d5c20c0973",
        "colab": {
          "base_uri": "https://localhost:8080/",
          "height": 35
        }
      },
      "execution_count": 47,
      "outputs": [
        {
          "output_type": "execute_result",
          "data": {
            "text/plain": [
              "'a'"
            ],
            "application/vnd.google.colaboratory.intrinsic+json": {
              "type": "string"
            }
          },
          "metadata": {},
          "execution_count": 47
        }
      ]
    },
    {
      "cell_type": "code",
      "source": [
        ""
      ],
      "metadata": {
        "id": "XHifqBRFNzda"
      },
      "execution_count": null,
      "outputs": []
    }
  ]
}