{
  "nbformat": 4,
  "nbformat_minor": 0,
  "metadata": {
    "colab": {
      "name": "Untitled0.ipynb",
      "provenance": [],
      "authorship_tag": "ABX9TyOg0fu5U5FcqUQAFCI2DcLc",
      "include_colab_link": true
    },
    "kernelspec": {
      "name": "python3",
      "display_name": "Python 3"
    },
    "language_info": {
      "name": "python"
    }
  },
  "cells": [
    {
      "cell_type": "markdown",
      "metadata": {
        "id": "view-in-github",
        "colab_type": "text"
      },
      "source": [
        "<a href=\"https://colab.research.google.com/github/SanjaySaatyaki/Pandas/blob/main/Series.ipynb\" target=\"_parent\"><img src=\"https://colab.research.google.com/assets/colab-badge.svg\" alt=\"Open In Colab\"/></a>"
      ]
    },
    {
      "cell_type": "code",
      "execution_count": 1,
      "metadata": {
        "id": "GWwksHHXyLCq"
      },
      "outputs": [],
      "source": [
        "students = [\"A\",\"B\",\"C\"]"
      ]
    },
    {
      "cell_type": "code",
      "source": [
        "type(students)"
      ],
      "metadata": {
        "id": "sKFExNxS0XCm",
        "outputId": "00599c60-adcd-48db-fcbe-0f00e465fea2",
        "colab": {
          "base_uri": "https://localhost:8080/"
        }
      },
      "execution_count": 2,
      "outputs": [
        {
          "output_type": "execute_result",
          "data": {
            "text/plain": [
              "list"
            ]
          },
          "metadata": {},
          "execution_count": 2
        }
      ]
    },
    {
      "cell_type": "code",
      "source": [
        "import pandas as pd\n",
        "pd.Series(students)"
      ],
      "metadata": {
        "id": "VM9L5Oj00b2i",
        "outputId": "da675aa2-c44c-466a-a3e0-e195b867eab5",
        "colab": {
          "base_uri": "https://localhost:8080/"
        }
      },
      "execution_count": 3,
      "outputs": [
        {
          "output_type": "execute_result",
          "data": {
            "text/plain": [
              "0    A\n",
              "1    B\n",
              "2    C\n",
              "dtype: object"
            ]
          },
          "metadata": {},
          "execution_count": 3
        }
      ]
    },
    {
      "cell_type": "code",
      "source": [
        "\n",
        "ages = [27,30,40]"
      ],
      "metadata": {
        "id": "LzAYD1tU0mty"
      },
      "execution_count": 4,
      "outputs": []
    },
    {
      "cell_type": "code",
      "source": [
        "pd.Series(ages)"
      ],
      "metadata": {
        "id": "aRKds-zu0twa",
        "outputId": "255eb5e1-2af1-446d-bd1e-7706152ad71c",
        "colab": {
          "base_uri": "https://localhost:8080/"
        }
      },
      "execution_count": 5,
      "outputs": [
        {
          "output_type": "execute_result",
          "data": {
            "text/plain": [
              "0    27\n",
              "1    30\n",
              "2    40\n",
              "dtype: int64"
            ]
          },
          "metadata": {},
          "execution_count": 5
        }
      ]
    },
    {
      "cell_type": "code",
      "source": [
        "heights = [5.4,6.1,5.9]\n",
        "pd.Series(heights)"
      ],
      "metadata": {
        "id": "zpug5fa90v36",
        "outputId": "f1cc4231-53a3-4d0d-f647-ecb306434618",
        "colab": {
          "base_uri": "https://localhost:8080/"
        }
      },
      "execution_count": 6,
      "outputs": [
        {
          "output_type": "execute_result",
          "data": {
            "text/plain": [
              "0    5.4\n",
              "1    6.1\n",
              "2    5.9\n",
              "dtype: float64"
            ]
          },
          "metadata": {},
          "execution_count": 6
        }
      ]
    },
    {
      "cell_type": "code",
      "source": [
        "mixed = [True,\"hello\",{\"key\":\"value\"}]"
      ],
      "metadata": {
        "id": "SBgQSsq605qU"
      },
      "execution_count": 7,
      "outputs": []
    },
    {
      "cell_type": "code",
      "source": [
        "\n",
        "pd.Series(mixed)"
      ],
      "metadata": {
        "id": "Y9RBBqnr1UKB",
        "outputId": "496acc15-d3f1-4d5e-8fe9-d6efc3ad2c59",
        "colab": {
          "base_uri": "https://localhost:8080/"
        }
      },
      "execution_count": 8,
      "outputs": [
        {
          "output_type": "execute_result",
          "data": {
            "text/plain": [
              "0                True\n",
              "1               hello\n",
              "2    {'key': 'value'}\n",
              "dtype: object"
            ]
          },
          "metadata": {},
          "execution_count": 8
        }
      ]
    },
    {
      "cell_type": "markdown",
      "source": [
        "# Parameters Vs Arguments"
      ],
      "metadata": {
        "id": "UPc50m2v1kyR"
      }
    },
    {
      "cell_type": "code",
      "source": [
        "pd.Series(data=students)"
      ],
      "metadata": {
        "id": "UrNASY9Y1pCR",
        "outputId": "6e6b9660-3552-42bb-8027-b8f4fd862644",
        "colab": {
          "base_uri": "https://localhost:8080/"
        }
      },
      "execution_count": 9,
      "outputs": [
        {
          "output_type": "execute_result",
          "data": {
            "text/plain": [
              "0    A\n",
              "1    B\n",
              "2    C\n",
              "dtype: object"
            ]
          },
          "metadata": {},
          "execution_count": 9
        }
      ]
    },
    {
      "cell_type": "code",
      "source": [
        "books_list = [\"ikagai\",\"psychology of money\",\"clean code\"]"
      ],
      "metadata": {
        "id": "r78dDOKVyWny"
      },
      "execution_count": 10,
      "outputs": []
    },
    {
      "cell_type": "code",
      "source": [
        "list_a = pd.Series(books_list)"
      ],
      "metadata": {
        "id": "BN4q3q4oywlr"
      },
      "execution_count": 11,
      "outputs": []
    },
    {
      "cell_type": "code",
      "source": [
        "books_dict = {0:\"ikagai\",1:\"psychology of money\",2:\"clean code\"}"
      ],
      "metadata": {
        "id": "clHZqc98y0g2"
      },
      "execution_count": 12,
      "outputs": []
    },
    {
      "cell_type": "code",
      "source": [
        "books_a = pd.Series(books_dict)"
      ],
      "metadata": {
        "id": "R6MLt_eAzEIn"
      },
      "execution_count": 13,
      "outputs": []
    },
    {
      "cell_type": "code",
      "source": [
        "list_a.equals(books_a)"
      ],
      "metadata": {
        "id": "UUZ7qmx5zGrK",
        "outputId": "766c6ab6-bed6-4c62-d1a2-69573492acfe",
        "colab": {
          "base_uri": "https://localhost:8080/"
        }
      },
      "execution_count": 14,
      "outputs": [
        {
          "output_type": "execute_result",
          "data": {
            "text/plain": [
              "True"
            ]
          },
          "metadata": {},
          "execution_count": 14
        }
      ]
    },
    {
      "cell_type": "markdown",
      "source": [
        ".dtype\n"
      ],
      "metadata": {
        "id": "y6bH7jgH0HfR"
      }
    },
    {
      "cell_type": "code",
      "source": [
        "pd.Series(ages,dtype=\"float\")"
      ],
      "metadata": {
        "id": "rHsOsy8u0PXn",
        "outputId": "7410b20a-d1cf-4657-f5d6-e9afb3ede1ce",
        "colab": {
          "base_uri": "https://localhost:8080/"
        }
      },
      "execution_count": 15,
      "outputs": [
        {
          "output_type": "execute_result",
          "data": {
            "text/plain": [
              "0    27.0\n",
              "1    30.0\n",
              "2    40.0\n",
              "dtype: float64"
            ]
          },
          "metadata": {},
          "execution_count": 15
        }
      ]
    },
    {
      "cell_type": "code",
      "source": [
        "name_series = pd.Series(students)"
      ],
      "metadata": {
        "id": "l2ZQ2LCK0VYW"
      },
      "execution_count": 16,
      "outputs": []
    },
    {
      "cell_type": "code",
      "source": [
        "name_series.dtype"
      ],
      "metadata": {
        "id": "kTsuiLoQ0jkW",
        "outputId": "935e519a-4c56-4c57-d22e-9d5d63fb7674",
        "colab": {
          "base_uri": "https://localhost:8080/"
        }
      },
      "execution_count": 17,
      "outputs": [
        {
          "output_type": "execute_result",
          "data": {
            "text/plain": [
              "dtype('O')"
            ]
          },
          "metadata": {},
          "execution_count": 17
        }
      ]
    },
    {
      "cell_type": "markdown",
      "source": [
        "Custom Index"
      ],
      "metadata": {
        "id": "evFrlaz51Q0g"
      }
    },
    {
      "cell_type": "code",
      "source": [
        "pd.Series(books_list,[\"Motivation\",\"Finance\",\"Coding\"])"
      ],
      "metadata": {
        "id": "fliPdI7s1SiA",
        "outputId": "d266dd90-1e6c-41b0-8870-692b4a76549b",
        "colab": {
          "base_uri": "https://localhost:8080/"
        }
      },
      "execution_count": 18,
      "outputs": [
        {
          "output_type": "execute_result",
          "data": {
            "text/plain": [
              "Motivation                 ikagai\n",
              "Finance       psychology of money\n",
              "Coding                 clean code\n",
              "dtype: object"
            ]
          },
          "metadata": {},
          "execution_count": 18
        }
      ]
    },
    {
      "cell_type": "code",
      "source": [
        ""
      ],
      "metadata": {
        "id": "Lyxh8vrh1alw"
      },
      "execution_count": 18,
      "outputs": []
    }
  ]
}