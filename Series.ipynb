{
  "nbformat": 4,
  "nbformat_minor": 0,
  "metadata": {
    "colab": {
      "name": "Untitled0.ipynb",
      "provenance": [],
      "authorship_tag": "ABX9TyOs8Qhnk7MMudwzFQazb8Cq",
      "include_colab_link": true
    },
    "kernelspec": {
      "name": "python3",
      "display_name": "Python 3"
    },
    "language_info": {
      "name": "python"
    }
  },
  "cells": [
    {
      "cell_type": "markdown",
      "metadata": {
        "id": "view-in-github",
        "colab_type": "text"
      },
      "source": [
        "<a href=\"https://colab.research.google.com/github/SanjaySaatyaki/Pandas/blob/main/Series.ipynb\" target=\"_parent\"><img src=\"https://colab.research.google.com/assets/colab-badge.svg\" alt=\"Open In Colab\"/></a>"
      ]
    },
    {
      "cell_type": "code",
      "execution_count": 1,
      "metadata": {
        "id": "GWwksHHXyLCq"
      },
      "outputs": [],
      "source": [
        "students = [\"A\",\"B\",\"C\"]"
      ]
    },
    {
      "cell_type": "code",
      "source": [
        "type(students)"
      ],
      "metadata": {
        "id": "sKFExNxS0XCm",
        "outputId": "128d2e4b-c5f0-4700-8d98-fcfdec1c0adf",
        "colab": {
          "base_uri": "https://localhost:8080/"
        }
      },
      "execution_count": 2,
      "outputs": [
        {
          "output_type": "execute_result",
          "data": {
            "text/plain": [
              "list"
            ]
          },
          "metadata": {},
          "execution_count": 2
        }
      ]
    },
    {
      "cell_type": "code",
      "source": [
        "import pandas as pd\n",
        "pd.Series(students)"
      ],
      "metadata": {
        "id": "VM9L5Oj00b2i",
        "outputId": "81ac9d62-d167-45f6-a394-5c4f6e92bc68",
        "colab": {
          "base_uri": "https://localhost:8080/"
        }
      },
      "execution_count": 3,
      "outputs": [
        {
          "output_type": "execute_result",
          "data": {
            "text/plain": [
              "0    A\n",
              "1    B\n",
              "2    C\n",
              "dtype: object"
            ]
          },
          "metadata": {},
          "execution_count": 3
        }
      ]
    },
    {
      "cell_type": "code",
      "source": [
        "\n",
        "ages = [27,30,40]"
      ],
      "metadata": {
        "id": "LzAYD1tU0mty"
      },
      "execution_count": 4,
      "outputs": []
    },
    {
      "cell_type": "code",
      "source": [
        "pd.Series(ages)"
      ],
      "metadata": {
        "id": "aRKds-zu0twa",
        "outputId": "e821db28-930c-48f5-fb0f-fbc4b92d70dc",
        "colab": {
          "base_uri": "https://localhost:8080/"
        }
      },
      "execution_count": 5,
      "outputs": [
        {
          "output_type": "execute_result",
          "data": {
            "text/plain": [
              "0    27\n",
              "1    30\n",
              "2    40\n",
              "dtype: int64"
            ]
          },
          "metadata": {},
          "execution_count": 5
        }
      ]
    },
    {
      "cell_type": "code",
      "source": [
        "heights = [5.4,6.1,5.9]\n",
        "pd.Series(heights)"
      ],
      "metadata": {
        "id": "zpug5fa90v36",
        "outputId": "2bdd6390-9caa-4ddf-ac99-dfbc25894b35",
        "colab": {
          "base_uri": "https://localhost:8080/"
        }
      },
      "execution_count": 6,
      "outputs": [
        {
          "output_type": "execute_result",
          "data": {
            "text/plain": [
              "0    5.4\n",
              "1    6.1\n",
              "2    5.9\n",
              "dtype: float64"
            ]
          },
          "metadata": {},
          "execution_count": 6
        }
      ]
    },
    {
      "cell_type": "code",
      "source": [
        "mixed = [True,\"hello\",{\"key\":\"value\"}]"
      ],
      "metadata": {
        "id": "SBgQSsq605qU"
      },
      "execution_count": 7,
      "outputs": []
    },
    {
      "cell_type": "code",
      "source": [
        "\n",
        "pd.Series(mixed)"
      ],
      "metadata": {
        "id": "Y9RBBqnr1UKB",
        "outputId": "a6689b5d-1afa-43cc-eef4-8827aa1350da",
        "colab": {
          "base_uri": "https://localhost:8080/"
        }
      },
      "execution_count": 8,
      "outputs": [
        {
          "output_type": "execute_result",
          "data": {
            "text/plain": [
              "0                True\n",
              "1               hello\n",
              "2    {'key': 'value'}\n",
              "dtype: object"
            ]
          },
          "metadata": {},
          "execution_count": 8
        }
      ]
    },
    {
      "cell_type": "markdown",
      "source": [
        "# Parameters Vs Arguments"
      ],
      "metadata": {
        "id": "UPc50m2v1kyR"
      }
    },
    {
      "cell_type": "code",
      "source": [
        "pd.Series(data=students)"
      ],
      "metadata": {
        "id": "UrNASY9Y1pCR",
        "colab": {
          "base_uri": "https://localhost:8080/"
        },
        "outputId": "7c6486d5-42f6-42f5-e64f-954668564e98"
      },
      "execution_count": 9,
      "outputs": [
        {
          "output_type": "execute_result",
          "data": {
            "text/plain": [
              "0    A\n",
              "1    B\n",
              "2    C\n",
              "dtype: object"
            ]
          },
          "metadata": {},
          "execution_count": 9
        }
      ]
    },
    {
      "cell_type": "code",
      "source": [
        "books_list = [\"ikagai\",\"psychology of money\",\"clean code\"]"
      ],
      "metadata": {
        "id": "r78dDOKVyWny"
      },
      "execution_count": 10,
      "outputs": []
    },
    {
      "cell_type": "code",
      "source": [
        "list_a = pd.Series(books_list)"
      ],
      "metadata": {
        "id": "BN4q3q4oywlr"
      },
      "execution_count": 11,
      "outputs": []
    },
    {
      "cell_type": "code",
      "source": [
        "books_dict = {0:\"ikagai\",1:\"psychology of money\",2:\"clean code\"}"
      ],
      "metadata": {
        "id": "clHZqc98y0g2"
      },
      "execution_count": 12,
      "outputs": []
    },
    {
      "cell_type": "code",
      "source": [
        "books_a = pd.Series(books_dict)"
      ],
      "metadata": {
        "id": "R6MLt_eAzEIn"
      },
      "execution_count": 13,
      "outputs": []
    },
    {
      "cell_type": "code",
      "source": [
        "list_a.equals(books_a)"
      ],
      "metadata": {
        "colab": {
          "base_uri": "https://localhost:8080/"
        },
        "id": "UUZ7qmx5zGrK",
        "outputId": "73c7fdbd-5b7c-428c-c4d5-241ca6797200"
      },
      "execution_count": 14,
      "outputs": [
        {
          "output_type": "execute_result",
          "data": {
            "text/plain": [
              "True"
            ]
          },
          "metadata": {},
          "execution_count": 14
        }
      ]
    },
    {
      "cell_type": "markdown",
      "source": [
        ".dtype\n"
      ],
      "metadata": {
        "id": "y6bH7jgH0HfR"
      }
    },
    {
      "cell_type": "code",
      "source": [
        "pd.Series(ages,dtype=\"float\")"
      ],
      "metadata": {
        "colab": {
          "base_uri": "https://localhost:8080/"
        },
        "id": "rHsOsy8u0PXn",
        "outputId": "8474c73d-ac6b-4159-d40f-50572f17a6e8"
      },
      "execution_count": 15,
      "outputs": [
        {
          "output_type": "execute_result",
          "data": {
            "text/plain": [
              "0    27.0\n",
              "1    30.0\n",
              "2    40.0\n",
              "dtype: float64"
            ]
          },
          "metadata": {},
          "execution_count": 15
        }
      ]
    },
    {
      "cell_type": "code",
      "source": [
        "name_series = pd.Series(students)"
      ],
      "metadata": {
        "id": "l2ZQ2LCK0VYW"
      },
      "execution_count": 16,
      "outputs": []
    },
    {
      "cell_type": "code",
      "source": [
        "name_series.dtype"
      ],
      "metadata": {
        "colab": {
          "base_uri": "https://localhost:8080/"
        },
        "id": "kTsuiLoQ0jkW",
        "outputId": "d9b19e97-a9fd-424c-b789-ddadddcae92f"
      },
      "execution_count": 17,
      "outputs": [
        {
          "output_type": "execute_result",
          "data": {
            "text/plain": [
              "dtype('O')"
            ]
          },
          "metadata": {},
          "execution_count": 17
        }
      ]
    },
    {
      "cell_type": "markdown",
      "source": [
        "Custom Index"
      ],
      "metadata": {
        "id": "evFrlaz51Q0g"
      }
    },
    {
      "cell_type": "code",
      "source": [
        "pd.Series(books_list,[\"Motivation\",\"Finance\",\"Coding\"])"
      ],
      "metadata": {
        "colab": {
          "base_uri": "https://localhost:8080/"
        },
        "id": "fliPdI7s1SiA",
        "outputId": "abe19b8d-3529-4a90-d858-a135667e4303"
      },
      "execution_count": 18,
      "outputs": [
        {
          "output_type": "execute_result",
          "data": {
            "text/plain": [
              "Motivation                 ikagai\n",
              "Finance       psychology of money\n",
              "Coding                 clean code\n",
              "dtype: object"
            ]
          },
          "metadata": {},
          "execution_count": 18
        }
      ]
    },
    {
      "cell_type": "code",
      "source": [
        "book_series = books_a"
      ],
      "metadata": {
        "id": "Lyxh8vrh1alw"
      },
      "execution_count": 19,
      "outputs": []
    },
    {
      "cell_type": "code",
      "source": [
        "book_series.name = \"Books i have Read\""
      ],
      "metadata": {
        "id": "J-YvKihMGoTr"
      },
      "execution_count": 20,
      "outputs": []
    },
    {
      "cell_type": "code",
      "source": [
        "book_series.index.name = \"Catagory\""
      ],
      "metadata": {
        "id": "_JWtBnSkGrlC"
      },
      "execution_count": 21,
      "outputs": []
    },
    {
      "cell_type": "code",
      "source": [
        "book_series"
      ],
      "metadata": {
        "colab": {
          "base_uri": "https://localhost:8080/"
        },
        "id": "eie6yetPGvsa",
        "outputId": "fc8d660e-4aeb-4368-f242-7576fe716d52"
      },
      "execution_count": 22,
      "outputs": [
        {
          "output_type": "execute_result",
          "data": {
            "text/plain": [
              "Catagory\n",
              "0                 ikagai\n",
              "1    psychology of money\n",
              "2             clean code\n",
              "Name: Books i have Read, dtype: object"
            ]
          },
          "metadata": {},
          "execution_count": 22
        }
      ]
    },
    {
      "cell_type": "code",
      "source": [
        "actors = [\"A\",\"B\",\"C\"]\n",
        "age = [10,20,30]"
      ],
      "metadata": {
        "id": "kNhTFpxAGx1C"
      },
      "execution_count": 23,
      "outputs": []
    },
    {
      "cell_type": "code",
      "source": [
        "pd.Series(ages,actors)"
      ],
      "metadata": {
        "colab": {
          "base_uri": "https://localhost:8080/"
        },
        "id": "050_zCSWHJuS",
        "outputId": "270b6910-4ec4-4c22-c29f-83dcda4f1aec"
      },
      "execution_count": 24,
      "outputs": [
        {
          "output_type": "execute_result",
          "data": {
            "text/plain": [
              "A    27\n",
              "B    30\n",
              "C    40\n",
              "dtype: int64"
            ]
          },
          "metadata": {},
          "execution_count": 24
        }
      ]
    },
    {
      "cell_type": "code",
      "source": [
        "actors_dict = dict(zip(actors,ages))\n",
        "pd.Series(actors_dict)"
      ],
      "metadata": {
        "colab": {
          "base_uri": "https://localhost:8080/"
        },
        "id": "prObS6xHHOsy",
        "outputId": "f5dc5de8-b5a9-4350-f6f4-f6ba334901a7"
      },
      "execution_count": 25,
      "outputs": [
        {
          "output_type": "execute_result",
          "data": {
            "text/plain": [
              "A    27\n",
              "B    30\n",
              "C    40\n",
              "dtype: int64"
            ]
          },
          "metadata": {},
          "execution_count": 25
        }
      ]
    },
    {
      "cell_type": "code",
      "source": [
        "int_series = pd.Series(range(60))"
      ],
      "metadata": {
        "id": "r2D8_wOPHpWM"
      },
      "execution_count": 26,
      "outputs": []
    },
    {
      "cell_type": "code",
      "source": [
        "int_series.size"
      ],
      "metadata": {
        "colab": {
          "base_uri": "https://localhost:8080/"
        },
        "id": "GS8DhvCvI6-b",
        "outputId": "6a14697d-f825-4ff8-fba5-4953810062e2"
      },
      "execution_count": 27,
      "outputs": [
        {
          "output_type": "execute_result",
          "data": {
            "text/plain": [
              "60"
            ]
          },
          "metadata": {},
          "execution_count": 27
        }
      ]
    },
    {
      "cell_type": "code",
      "source": [
        "int_series.head()"
      ],
      "metadata": {
        "colab": {
          "base_uri": "https://localhost:8080/"
        },
        "id": "JtK-7C71I9lq",
        "outputId": "4a57175e-1adb-4148-8f21-49c1aea9f047"
      },
      "execution_count": 28,
      "outputs": [
        {
          "output_type": "execute_result",
          "data": {
            "text/plain": [
              "0    0\n",
              "1    1\n",
              "2    2\n",
              "3    3\n",
              "4    4\n",
              "dtype: int64"
            ]
          },
          "metadata": {},
          "execution_count": 28
        }
      ]
    },
    {
      "cell_type": "code",
      "source": [
        "int_series.tail()"
      ],
      "metadata": {
        "colab": {
          "base_uri": "https://localhost:8080/"
        },
        "id": "DTyYK4C3JEmz",
        "outputId": "dc9febe8-70e1-408c-d697-593248e70ec4"
      },
      "execution_count": 29,
      "outputs": [
        {
          "output_type": "execute_result",
          "data": {
            "text/plain": [
              "55    55\n",
              "56    56\n",
              "57    57\n",
              "58    58\n",
              "59    59\n",
              "dtype: int64"
            ]
          },
          "metadata": {},
          "execution_count": 29
        }
      ]
    },
    {
      "cell_type": "code",
      "source": [
        "int_series.tail(n=10)"
      ],
      "metadata": {
        "colab": {
          "base_uri": "https://localhost:8080/"
        },
        "id": "qmnO2F-WJNP8",
        "outputId": "cb7ef72c-54cf-429f-96ed-b6a1632561b0"
      },
      "execution_count": 30,
      "outputs": [
        {
          "output_type": "execute_result",
          "data": {
            "text/plain": [
              "50    50\n",
              "51    51\n",
              "52    52\n",
              "53    53\n",
              "54    54\n",
              "55    55\n",
              "56    56\n",
              "57    57\n",
              "58    58\n",
              "59    59\n",
              "dtype: int64"
            ]
          },
          "metadata": {},
          "execution_count": 30
        }
      ]
    },
    {
      "cell_type": "code",
      "source": [
        "from string import ascii_lowercase"
      ],
      "metadata": {
        "id": "Ox1UHzGPJP5D"
      },
      "execution_count": 31,
      "outputs": []
    },
    {
      "cell_type": "code",
      "source": [
        "ascii_lowercase"
      ],
      "metadata": {
        "colab": {
          "base_uri": "https://localhost:8080/",
          "height": 35
        },
        "id": "1vTbPHbnJk5L",
        "outputId": "1e9d495f-0699-43d0-af93-8254c941e2ea"
      },
      "execution_count": 32,
      "outputs": [
        {
          "output_type": "execute_result",
          "data": {
            "text/plain": [
              "'abcdefghijklmnopqrstuvwxyz'"
            ],
            "application/vnd.google.colaboratory.intrinsic+json": {
              "type": "string"
            }
          },
          "metadata": {},
          "execution_count": 32
        }
      ]
    },
    {
      "cell_type": "code",
      "source": [
        "alphabet = pd.Series(list(ascii_lowercase))"
      ],
      "metadata": {
        "id": "CCF9v5PTJmkM"
      },
      "execution_count": 33,
      "outputs": []
    },
    {
      "cell_type": "code",
      "source": [
        "alphabet.head()"
      ],
      "metadata": {
        "colab": {
          "base_uri": "https://localhost:8080/"
        },
        "id": "yakKLj6DJwKD",
        "outputId": "bd6bad73-e37f-410b-fc51-d0b5d0c2cce0"
      },
      "execution_count": 34,
      "outputs": [
        {
          "output_type": "execute_result",
          "data": {
            "text/plain": [
              "0    a\n",
              "1    b\n",
              "2    c\n",
              "3    d\n",
              "4    e\n",
              "dtype: object"
            ]
          },
          "metadata": {},
          "execution_count": 34
        }
      ]
    },
    {
      "cell_type": "code",
      "source": [
        "alphabet[0:-1]"
      ],
      "metadata": {
        "colab": {
          "base_uri": "https://localhost:8080/"
        },
        "id": "0mRIkU3aJzKE",
        "outputId": "2036a758-1d09-448b-dda4-efe25239c174"
      },
      "execution_count": 35,
      "outputs": [
        {
          "output_type": "execute_result",
          "data": {
            "text/plain": [
              "0     a\n",
              "1     b\n",
              "2     c\n",
              "3     d\n",
              "4     e\n",
              "5     f\n",
              "6     g\n",
              "7     h\n",
              "8     i\n",
              "9     j\n",
              "10    k\n",
              "11    l\n",
              "12    m\n",
              "13    n\n",
              "14    o\n",
              "15    p\n",
              "16    q\n",
              "17    r\n",
              "18    s\n",
              "19    t\n",
              "20    u\n",
              "21    v\n",
              "22    w\n",
              "23    x\n",
              "24    y\n",
              "dtype: object"
            ]
          },
          "metadata": {},
          "execution_count": 35
        }
      ]
    },
    {
      "cell_type": "code",
      "source": [
        "alphabet[-6:]"
      ],
      "metadata": {
        "colab": {
          "base_uri": "https://localhost:8080/"
        },
        "id": "mVzcKz9UKADK",
        "outputId": "eaec2ad0-0a86-4dd9-d3d2-8676fc1489b2"
      },
      "execution_count": 36,
      "outputs": [
        {
          "output_type": "execute_result",
          "data": {
            "text/plain": [
              "20    u\n",
              "21    v\n",
              "22    w\n",
              "23    x\n",
              "24    y\n",
              "25    z\n",
              "dtype: object"
            ]
          },
          "metadata": {},
          "execution_count": 36
        }
      ]
    },
    {
      "cell_type": "code",
      "source": [
        "from string import ascii_uppercase"
      ],
      "metadata": {
        "id": "8YJT_SfbKR6m"
      },
      "execution_count": 37,
      "outputs": []
    },
    {
      "cell_type": "code",
      "source": [
        "labeled_alphabet = pd.Series(data=list(ascii_lowercase),index=map(lambda x: 'label_'+x,list(ascii_uppercase)))"
      ],
      "metadata": {
        "id": "7-lRd31JMtQ7"
      },
      "execution_count": 38,
      "outputs": []
    },
    {
      "cell_type": "code",
      "source": [
        "labeled_alphabet.head()"
      ],
      "metadata": {
        "colab": {
          "base_uri": "https://localhost:8080/"
        },
        "id": "oHP_V7J-M4vr",
        "outputId": "5cf66c93-3fe7-48dc-ff9a-13ced92bf551"
      },
      "execution_count": 39,
      "outputs": [
        {
          "output_type": "execute_result",
          "data": {
            "text/plain": [
              "label_A    a\n",
              "label_B    b\n",
              "label_C    c\n",
              "label_D    d\n",
              "label_E    e\n",
              "dtype: object"
            ]
          },
          "metadata": {},
          "execution_count": 39
        }
      ]
    },
    {
      "cell_type": "code",
      "source": [
        "labeled_alphabet[0]"
      ],
      "metadata": {
        "colab": {
          "base_uri": "https://localhost:8080/",
          "height": 35
        },
        "id": "lNaGXqR2M7bj",
        "outputId": "b693a1ab-2ef6-4d0c-aef9-f6b87b134e95"
      },
      "execution_count": 40,
      "outputs": [
        {
          "output_type": "execute_result",
          "data": {
            "text/plain": [
              "'a'"
            ],
            "application/vnd.google.colaboratory.intrinsic+json": {
              "type": "string"
            }
          },
          "metadata": {},
          "execution_count": 40
        }
      ]
    },
    {
      "cell_type": "code",
      "source": [
        "labeled_alphabet['label_A']"
      ],
      "metadata": {
        "colab": {
          "base_uri": "https://localhost:8080/",
          "height": 35
        },
        "id": "e_6yYee2NwRD",
        "outputId": "0e647dc0-d81b-4b18-b45c-5bdb2f0a4f11"
      },
      "execution_count": 41,
      "outputs": [
        {
          "output_type": "execute_result",
          "data": {
            "text/plain": [
              "'a'"
            ],
            "application/vnd.google.colaboratory.intrinsic+json": {
              "type": "string"
            }
          },
          "metadata": {},
          "execution_count": 41
        }
      ]
    },
    {
      "cell_type": "code",
      "source": [
        "alphabet.head()"
      ],
      "metadata": {
        "colab": {
          "base_uri": "https://localhost:8080/"
        },
        "id": "XHifqBRFNzda",
        "outputId": "b642cdc5-8e74-464d-d260-9e5d885b5e59"
      },
      "execution_count": 42,
      "outputs": [
        {
          "output_type": "execute_result",
          "data": {
            "text/plain": [
              "0    a\n",
              "1    b\n",
              "2    c\n",
              "3    d\n",
              "4    e\n",
              "dtype: object"
            ]
          },
          "metadata": {},
          "execution_count": 42
        }
      ]
    },
    {
      "cell_type": "code",
      "source": [
        "alphabet.add_prefix(\"label_\")"
      ],
      "metadata": {
        "id": "6vKNH5XTOY5T",
        "outputId": "23def17d-e66a-4ae5-c6f9-c96549ba66c7",
        "colab": {
          "base_uri": "https://localhost:8080/"
        }
      },
      "execution_count": 43,
      "outputs": [
        {
          "output_type": "execute_result",
          "data": {
            "text/plain": [
              "label_0     a\n",
              "label_1     b\n",
              "label_2     c\n",
              "label_3     d\n",
              "label_4     e\n",
              "label_5     f\n",
              "label_6     g\n",
              "label_7     h\n",
              "label_8     i\n",
              "label_9     j\n",
              "label_10    k\n",
              "label_11    l\n",
              "label_12    m\n",
              "label_13    n\n",
              "label_14    o\n",
              "label_15    p\n",
              "label_16    q\n",
              "label_17    r\n",
              "label_18    s\n",
              "label_19    t\n",
              "label_20    u\n",
              "label_21    v\n",
              "label_22    w\n",
              "label_23    x\n",
              "label_24    y\n",
              "label_25    z\n",
              "dtype: object"
            ]
          },
          "metadata": {},
          "execution_count": 43
        }
      ]
    },
    {
      "cell_type": "code",
      "source": [
        "alphabet.add_suffix(\"_suffix\")"
      ],
      "metadata": {
        "id": "ySZjEVHcOgoL",
        "outputId": "7c9c5b3b-680c-4f9d-d119-5a962badaea0",
        "colab": {
          "base_uri": "https://localhost:8080/"
        }
      },
      "execution_count": 44,
      "outputs": [
        {
          "output_type": "execute_result",
          "data": {
            "text/plain": [
              "0_suffix     a\n",
              "1_suffix     b\n",
              "2_suffix     c\n",
              "3_suffix     d\n",
              "4_suffix     e\n",
              "5_suffix     f\n",
              "6_suffix     g\n",
              "7_suffix     h\n",
              "8_suffix     i\n",
              "9_suffix     j\n",
              "10_suffix    k\n",
              "11_suffix    l\n",
              "12_suffix    m\n",
              "13_suffix    n\n",
              "14_suffix    o\n",
              "15_suffix    p\n",
              "16_suffix    q\n",
              "17_suffix    r\n",
              "18_suffix    s\n",
              "19_suffix    t\n",
              "20_suffix    u\n",
              "21_suffix    v\n",
              "22_suffix    w\n",
              "23_suffix    x\n",
              "24_suffix    y\n",
              "25_suffix    z\n",
              "dtype: object"
            ]
          },
          "metadata": {},
          "execution_count": 44
        }
      ]
    },
    {
      "cell_type": "markdown",
      "source": [
        "Using Dot Notation"
      ],
      "metadata": {
        "id": "pShwjUe3OwEB"
      }
    },
    {
      "cell_type": "code",
      "source": [
        "labeled_alphabet['label_V']"
      ],
      "metadata": {
        "id": "QNnZJQtrOziT",
        "outputId": "d691ffa7-ae10-41ac-abeb-489af64d82e0",
        "colab": {
          "base_uri": "https://localhost:8080/",
          "height": 35
        }
      },
      "execution_count": 45,
      "outputs": [
        {
          "output_type": "execute_result",
          "data": {
            "text/plain": [
              "'v'"
            ],
            "application/vnd.google.colaboratory.intrinsic+json": {
              "type": "string"
            }
          },
          "metadata": {},
          "execution_count": 45
        }
      ]
    },
    {
      "cell_type": "code",
      "source": [
        "labeled_alphabet.label_V"
      ],
      "metadata": {
        "id": "ZC8srgARO4SD",
        "outputId": "8e81c2a8-114a-4a5a-86ae-a43afc9d7e13",
        "colab": {
          "base_uri": "https://localhost:8080/",
          "height": 35
        }
      },
      "execution_count": 46,
      "outputs": [
        {
          "output_type": "execute_result",
          "data": {
            "text/plain": [
              "'v'"
            ],
            "application/vnd.google.colaboratory.intrinsic+json": {
              "type": "string"
            }
          },
          "metadata": {},
          "execution_count": 46
        }
      ]
    },
    {
      "cell_type": "code",
      "source": [
        ""
      ],
      "metadata": {
        "id": "PA429SxkPASy"
      },
      "execution_count": 46,
      "outputs": []
    },
    {
      "cell_type": "markdown",
      "source": [
        "Boolean Mask and the .loc Indexer"
      ],
      "metadata": {
        "id": "ophTqwehRsew"
      }
    },
    {
      "cell_type": "code",
      "source": [
        "labeled_alphabet['label_F':'label_J']"
      ],
      "metadata": {
        "id": "_F-TRzXARxrl",
        "outputId": "2da8de72-5a15-4c83-9cb6-02f9e92096b2",
        "colab": {
          "base_uri": "https://localhost:8080/"
        }
      },
      "execution_count": 47,
      "outputs": [
        {
          "output_type": "execute_result",
          "data": {
            "text/plain": [
              "label_F    f\n",
              "label_G    g\n",
              "label_H    h\n",
              "label_I    i\n",
              "label_J    j\n",
              "dtype: object"
            ]
          },
          "metadata": {},
          "execution_count": 47
        }
      ]
    },
    {
      "cell_type": "code",
      "source": [
        "labeled_alphabet.loc['label_F':'label_J']"
      ],
      "metadata": {
        "id": "BOJdNEKAR_QP",
        "outputId": "e44e9cb0-ee3b-4849-de63-e98abde9d39b",
        "colab": {
          "base_uri": "https://localhost:8080/"
        }
      },
      "execution_count": 48,
      "outputs": [
        {
          "output_type": "execute_result",
          "data": {
            "text/plain": [
              "label_F    f\n",
              "label_G    g\n",
              "label_H    h\n",
              "label_I    i\n",
              "label_J    j\n",
              "dtype: object"
            ]
          },
          "metadata": {},
          "execution_count": 48
        }
      ]
    },
    {
      "cell_type": "code",
      "source": [
        "book_series"
      ],
      "metadata": {
        "id": "5QgtK6jJSIuz",
        "outputId": "83e80961-11a9-4e4b-ce92-91612e2211bc",
        "colab": {
          "base_uri": "https://localhost:8080/"
        }
      },
      "execution_count": 49,
      "outputs": [
        {
          "output_type": "execute_result",
          "data": {
            "text/plain": [
              "Catagory\n",
              "0                 ikagai\n",
              "1    psychology of money\n",
              "2             clean code\n",
              "Name: Books i have Read, dtype: object"
            ]
          },
          "metadata": {},
          "execution_count": 49
        }
      ]
    },
    {
      "cell_type": "code",
      "source": [
        "book_series.loc[[True,False,True]]\n",
        "#Boolen mask size of bool must be size of series"
      ],
      "metadata": {
        "id": "pwCkrSn5Sml7",
        "outputId": "074c724b-b0a9-41ae-e011-d540bcf00a74",
        "colab": {
          "base_uri": "https://localhost:8080/"
        }
      },
      "execution_count": 50,
      "outputs": [
        {
          "output_type": "execute_result",
          "data": {
            "text/plain": [
              "Catagory\n",
              "0        ikagai\n",
              "2    clean code\n",
              "Name: Books i have Read, dtype: object"
            ]
          },
          "metadata": {},
          "execution_count": 50
        }
      ]
    },
    {
      "cell_type": "code",
      "source": [
        "labeled_alphabet.loc[[True for i in range(26)]]"
      ],
      "metadata": {
        "id": "0F9C54NtSutk",
        "outputId": "1276a443-58a1-4a92-f34c-6f724993b3aa",
        "colab": {
          "base_uri": "https://localhost:8080/"
        }
      },
      "execution_count": 51,
      "outputs": [
        {
          "output_type": "execute_result",
          "data": {
            "text/plain": [
              "label_A    a\n",
              "label_B    b\n",
              "label_C    c\n",
              "label_D    d\n",
              "label_E    e\n",
              "label_F    f\n",
              "label_G    g\n",
              "label_H    h\n",
              "label_I    i\n",
              "label_J    j\n",
              "label_K    k\n",
              "label_L    l\n",
              "label_M    m\n",
              "label_N    n\n",
              "label_O    o\n",
              "label_P    p\n",
              "label_Q    q\n",
              "label_R    r\n",
              "label_S    s\n",
              "label_T    t\n",
              "label_U    u\n",
              "label_V    v\n",
              "label_W    w\n",
              "label_X    x\n",
              "label_Y    y\n",
              "label_Z    z\n",
              "dtype: object"
            ]
          },
          "metadata": {},
          "execution_count": 51
        }
      ]
    },
    {
      "cell_type": "code",
      "source": [
        "labeled_alphabet.loc[[True if i%2==0 else False for i in range(26)]]"
      ],
      "metadata": {
        "id": "beitMGA0TOWQ",
        "outputId": "a199fd75-7b43-4526-f91e-5e6459e36196",
        "colab": {
          "base_uri": "https://localhost:8080/"
        }
      },
      "execution_count": 52,
      "outputs": [
        {
          "output_type": "execute_result",
          "data": {
            "text/plain": [
              "label_A    a\n",
              "label_C    c\n",
              "label_E    e\n",
              "label_G    g\n",
              "label_I    i\n",
              "label_K    k\n",
              "label_M    m\n",
              "label_O    o\n",
              "label_Q    q\n",
              "label_S    s\n",
              "label_U    u\n",
              "label_W    w\n",
              "label_Y    y\n",
              "dtype: object"
            ]
          },
          "metadata": {},
          "execution_count": 52
        }
      ]
    },
    {
      "cell_type": "markdown",
      "source": [
        "Extraction by position with iloc"
      ],
      "metadata": {
        "id": "_8BGkt-_UA2e"
      }
    },
    {
      "cell_type": "code",
      "source": [
        "#iloc ==> integer loc ==> indexing by position\n",
        "#loc ==> location => indexing by label"
      ],
      "metadata": {
        "id": "FrixmaiUUCvM"
      },
      "execution_count": 53,
      "outputs": []
    },
    {
      "cell_type": "code",
      "source": [
        "labeled_alphabet.iloc[0]"
      ],
      "metadata": {
        "id": "qfGpXhtMVEr8",
        "outputId": "43e447c9-192b-46b0-a18c-4a88706e3008",
        "colab": {
          "base_uri": "https://localhost:8080/",
          "height": 35
        }
      },
      "execution_count": 54,
      "outputs": [
        {
          "output_type": "execute_result",
          "data": {
            "text/plain": [
              "'a'"
            ],
            "application/vnd.google.colaboratory.intrinsic+json": {
              "type": "string"
            }
          },
          "metadata": {},
          "execution_count": 54
        }
      ]
    },
    {
      "cell_type": "code",
      "source": [
        "labeled_alphabet.iloc[1:3]"
      ],
      "metadata": {
        "id": "Fe_Zd9bDU9fi",
        "outputId": "aa0350d6-40ef-4fe9-bc26-64d5130e971b",
        "colab": {
          "base_uri": "https://localhost:8080/"
        }
      },
      "execution_count": 55,
      "outputs": [
        {
          "output_type": "execute_result",
          "data": {
            "text/plain": [
              "label_B    b\n",
              "label_C    c\n",
              "dtype: object"
            ]
          },
          "metadata": {},
          "execution_count": 55
        }
      ]
    },
    {
      "cell_type": "code",
      "source": [
        "labeled_alphabet.iloc[[1,4,9]]"
      ],
      "metadata": {
        "id": "91ISnPxlVMRE",
        "outputId": "6d504e4a-7f92-4b35-c5e1-ebee7e963314",
        "colab": {
          "base_uri": "https://localhost:8080/"
        }
      },
      "execution_count": 56,
      "outputs": [
        {
          "output_type": "execute_result",
          "data": {
            "text/plain": [
              "label_B    b\n",
              "label_E    e\n",
              "label_J    j\n",
              "dtype: object"
            ]
          },
          "metadata": {},
          "execution_count": 56
        }
      ]
    },
    {
      "cell_type": "code",
      "source": [
        "def every_fifth(x):\n",
        "  return [True if (i+1)%5==0 else False for i in range(x.size)]"
      ],
      "metadata": {
        "id": "OJam0hohVT_9"
      },
      "execution_count": 57,
      "outputs": []
    },
    {
      "cell_type": "code",
      "source": [
        "labeled_alphabet.iloc[every_fifth]"
      ],
      "metadata": {
        "id": "LiGzbIrkbXjs",
        "outputId": "9a1c54d2-cdbe-43b4-d3bd-163c5c739ef0",
        "colab": {
          "base_uri": "https://localhost:8080/"
        }
      },
      "execution_count": 58,
      "outputs": [
        {
          "output_type": "execute_result",
          "data": {
            "text/plain": [
              "label_E    e\n",
              "label_J    j\n",
              "label_O    o\n",
              "label_T    t\n",
              "label_Y    y\n",
              "dtype: object"
            ]
          },
          "metadata": {},
          "execution_count": 58
        }
      ]
    },
    {
      "cell_type": "code",
      "source": [
        "labeled_alphabet.get(\"label_in\",default =\"Not found\")"
      ],
      "metadata": {
        "id": "m8wFGwUkbdXU",
        "outputId": "338c8a24-d2fe-4d6a-de83-4417babf67f5",
        "colab": {
          "base_uri": "https://localhost:8080/",
          "height": 35
        }
      },
      "execution_count": 59,
      "outputs": [
        {
          "output_type": "execute_result",
          "data": {
            "text/plain": [
              "'Not found'"
            ],
            "application/vnd.google.colaboratory.intrinsic+json": {
              "type": "string"
            }
          },
          "metadata": {},
          "execution_count": 59
        }
      ]
    },
    {
      "cell_type": "code",
      "source": [
        ""
      ],
      "metadata": {
        "id": "aTY5ENbvb-DR"
      },
      "execution_count": 59,
      "outputs": []
    },
    {
      "cell_type": "markdown",
      "source": [
        "Series Method and Handling"
      ],
      "metadata": {
        "id": "rkDYdyCNdhbn"
      }
    },
    {
      "cell_type": "code",
      "source": [
        "import pandas as pd"
      ],
      "metadata": {
        "id": "kY6skJmpdzos"
      },
      "execution_count": 60,
      "outputs": []
    },
    {
      "cell_type": "code",
      "source": [
        "pd. read_csv(\"https://andybek.com/pandas-drinks\")"
      ],
      "metadata": {
        "id": "ajFfvZlWd0-w",
        "outputId": "775236d6-a6ce-4433-f76e-4c5ad192bfda",
        "colab": {
          "base_uri": "https://localhost:8080/",
          "height": 488
        }
      },
      "execution_count": 62,
      "outputs": [
        {
          "output_type": "execute_result",
          "data": {
            "text/plain": [
              "         country  beer_servings  spirit_servings  wine_servings  \\\n",
              "0    Afghanistan            NaN              NaN            NaN   \n",
              "1        Albania           89.0            132.0           54.0   \n",
              "2        Algeria           25.0              NaN           14.0   \n",
              "3        Andorra          245.0            138.0          312.0   \n",
              "4         Angola          217.0             57.0           45.0   \n",
              "..           ...            ...              ...            ...   \n",
              "188    Venezuela          333.0              1.0            3.0   \n",
              "189      Vietnam          111.0              2.0            1.0   \n",
              "190        Yemen            6.0              NaN            NaN   \n",
              "191       Zambia           32.0             19.0            4.0   \n",
              "192     Zimbabwe           64.0             18.0            4.0   \n",
              "\n",
              "     total_litres_of_pure_alcohol  \n",
              "0                             NaN  \n",
              "1                             4.9  \n",
              "2                             0.7  \n",
              "3                            12.4  \n",
              "4                             5.9  \n",
              "..                            ...  \n",
              "188                           7.7  \n",
              "189                           2.0  \n",
              "190                           0.1  \n",
              "191                           2.5  \n",
              "192                           4.7  \n",
              "\n",
              "[193 rows x 5 columns]"
            ],
            "text/html": [
              "\n",
              "  <div id=\"df-dc188415-f0c6-4723-8fac-5cee68ea42ce\">\n",
              "    <div class=\"colab-df-container\">\n",
              "      <div>\n",
              "<style scoped>\n",
              "    .dataframe tbody tr th:only-of-type {\n",
              "        vertical-align: middle;\n",
              "    }\n",
              "\n",
              "    .dataframe tbody tr th {\n",
              "        vertical-align: top;\n",
              "    }\n",
              "\n",
              "    .dataframe thead th {\n",
              "        text-align: right;\n",
              "    }\n",
              "</style>\n",
              "<table border=\"1\" class=\"dataframe\">\n",
              "  <thead>\n",
              "    <tr style=\"text-align: right;\">\n",
              "      <th></th>\n",
              "      <th>country</th>\n",
              "      <th>beer_servings</th>\n",
              "      <th>spirit_servings</th>\n",
              "      <th>wine_servings</th>\n",
              "      <th>total_litres_of_pure_alcohol</th>\n",
              "    </tr>\n",
              "  </thead>\n",
              "  <tbody>\n",
              "    <tr>\n",
              "      <th>0</th>\n",
              "      <td>Afghanistan</td>\n",
              "      <td>NaN</td>\n",
              "      <td>NaN</td>\n",
              "      <td>NaN</td>\n",
              "      <td>NaN</td>\n",
              "    </tr>\n",
              "    <tr>\n",
              "      <th>1</th>\n",
              "      <td>Albania</td>\n",
              "      <td>89.0</td>\n",
              "      <td>132.0</td>\n",
              "      <td>54.0</td>\n",
              "      <td>4.9</td>\n",
              "    </tr>\n",
              "    <tr>\n",
              "      <th>2</th>\n",
              "      <td>Algeria</td>\n",
              "      <td>25.0</td>\n",
              "      <td>NaN</td>\n",
              "      <td>14.0</td>\n",
              "      <td>0.7</td>\n",
              "    </tr>\n",
              "    <tr>\n",
              "      <th>3</th>\n",
              "      <td>Andorra</td>\n",
              "      <td>245.0</td>\n",
              "      <td>138.0</td>\n",
              "      <td>312.0</td>\n",
              "      <td>12.4</td>\n",
              "    </tr>\n",
              "    <tr>\n",
              "      <th>4</th>\n",
              "      <td>Angola</td>\n",
              "      <td>217.0</td>\n",
              "      <td>57.0</td>\n",
              "      <td>45.0</td>\n",
              "      <td>5.9</td>\n",
              "    </tr>\n",
              "    <tr>\n",
              "      <th>...</th>\n",
              "      <td>...</td>\n",
              "      <td>...</td>\n",
              "      <td>...</td>\n",
              "      <td>...</td>\n",
              "      <td>...</td>\n",
              "    </tr>\n",
              "    <tr>\n",
              "      <th>188</th>\n",
              "      <td>Venezuela</td>\n",
              "      <td>333.0</td>\n",
              "      <td>1.0</td>\n",
              "      <td>3.0</td>\n",
              "      <td>7.7</td>\n",
              "    </tr>\n",
              "    <tr>\n",
              "      <th>189</th>\n",
              "      <td>Vietnam</td>\n",
              "      <td>111.0</td>\n",
              "      <td>2.0</td>\n",
              "      <td>1.0</td>\n",
              "      <td>2.0</td>\n",
              "    </tr>\n",
              "    <tr>\n",
              "      <th>190</th>\n",
              "      <td>Yemen</td>\n",
              "      <td>6.0</td>\n",
              "      <td>NaN</td>\n",
              "      <td>NaN</td>\n",
              "      <td>0.1</td>\n",
              "    </tr>\n",
              "    <tr>\n",
              "      <th>191</th>\n",
              "      <td>Zambia</td>\n",
              "      <td>32.0</td>\n",
              "      <td>19.0</td>\n",
              "      <td>4.0</td>\n",
              "      <td>2.5</td>\n",
              "    </tr>\n",
              "    <tr>\n",
              "      <th>192</th>\n",
              "      <td>Zimbabwe</td>\n",
              "      <td>64.0</td>\n",
              "      <td>18.0</td>\n",
              "      <td>4.0</td>\n",
              "      <td>4.7</td>\n",
              "    </tr>\n",
              "  </tbody>\n",
              "</table>\n",
              "<p>193 rows × 5 columns</p>\n",
              "</div>\n",
              "      <button class=\"colab-df-convert\" onclick=\"convertToInteractive('df-dc188415-f0c6-4723-8fac-5cee68ea42ce')\"\n",
              "              title=\"Convert this dataframe to an interactive table.\"\n",
              "              style=\"display:none;\">\n",
              "        \n",
              "  <svg xmlns=\"http://www.w3.org/2000/svg\" height=\"24px\"viewBox=\"0 0 24 24\"\n",
              "       width=\"24px\">\n",
              "    <path d=\"M0 0h24v24H0V0z\" fill=\"none\"/>\n",
              "    <path d=\"M18.56 5.44l.94 2.06.94-2.06 2.06-.94-2.06-.94-.94-2.06-.94 2.06-2.06.94zm-11 1L8.5 8.5l.94-2.06 2.06-.94-2.06-.94L8.5 2.5l-.94 2.06-2.06.94zm10 10l.94 2.06.94-2.06 2.06-.94-2.06-.94-.94-2.06-.94 2.06-2.06.94z\"/><path d=\"M17.41 7.96l-1.37-1.37c-.4-.4-.92-.59-1.43-.59-.52 0-1.04.2-1.43.59L10.3 9.45l-7.72 7.72c-.78.78-.78 2.05 0 2.83L4 21.41c.39.39.9.59 1.41.59.51 0 1.02-.2 1.41-.59l7.78-7.78 2.81-2.81c.8-.78.8-2.07 0-2.86zM5.41 20L4 18.59l7.72-7.72 1.47 1.35L5.41 20z\"/>\n",
              "  </svg>\n",
              "      </button>\n",
              "      \n",
              "  <style>\n",
              "    .colab-df-container {\n",
              "      display:flex;\n",
              "      flex-wrap:wrap;\n",
              "      gap: 12px;\n",
              "    }\n",
              "\n",
              "    .colab-df-convert {\n",
              "      background-color: #E8F0FE;\n",
              "      border: none;\n",
              "      border-radius: 50%;\n",
              "      cursor: pointer;\n",
              "      display: none;\n",
              "      fill: #1967D2;\n",
              "      height: 32px;\n",
              "      padding: 0 0 0 0;\n",
              "      width: 32px;\n",
              "    }\n",
              "\n",
              "    .colab-df-convert:hover {\n",
              "      background-color: #E2EBFA;\n",
              "      box-shadow: 0px 1px 2px rgba(60, 64, 67, 0.3), 0px 1px 3px 1px rgba(60, 64, 67, 0.15);\n",
              "      fill: #174EA6;\n",
              "    }\n",
              "\n",
              "    [theme=dark] .colab-df-convert {\n",
              "      background-color: #3B4455;\n",
              "      fill: #D2E3FC;\n",
              "    }\n",
              "\n",
              "    [theme=dark] .colab-df-convert:hover {\n",
              "      background-color: #434B5C;\n",
              "      box-shadow: 0px 1px 3px 1px rgba(0, 0, 0, 0.15);\n",
              "      filter: drop-shadow(0px 1px 2px rgba(0, 0, 0, 0.3));\n",
              "      fill: #FFFFFF;\n",
              "    }\n",
              "  </style>\n",
              "\n",
              "      <script>\n",
              "        const buttonEl =\n",
              "          document.querySelector('#df-dc188415-f0c6-4723-8fac-5cee68ea42ce button.colab-df-convert');\n",
              "        buttonEl.style.display =\n",
              "          google.colab.kernel.accessAllowed ? 'block' : 'none';\n",
              "\n",
              "        async function convertToInteractive(key) {\n",
              "          const element = document.querySelector('#df-dc188415-f0c6-4723-8fac-5cee68ea42ce');\n",
              "          const dataTable =\n",
              "            await google.colab.kernel.invokeFunction('convertToInteractive',\n",
              "                                                     [key], {});\n",
              "          if (!dataTable) return;\n",
              "\n",
              "          const docLinkHtml = 'Like what you see? Visit the ' +\n",
              "            '<a target=\"_blank\" href=https://colab.research.google.com/notebooks/data_table.ipynb>data table notebook</a>'\n",
              "            + ' to learn more about interactive tables.';\n",
              "          element.innerHTML = '';\n",
              "          dataTable['output_type'] = 'display_data';\n",
              "          await google.colab.output.renderOutput(dataTable, element);\n",
              "          const docLink = document.createElement('div');\n",
              "          docLink.innerHTML = docLinkHtml;\n",
              "          element.appendChild(docLink);\n",
              "        }\n",
              "      </script>\n",
              "    </div>\n",
              "  </div>\n",
              "  "
            ]
          },
          "metadata": {},
          "execution_count": 62
        }
      ]
    },
    {
      "cell_type": "code",
      "source": [
        "alcohol = pd.read_csv(\"https://andybek.com/pandas-drinks\", usecols=['country','wine_servings'], index_col='country',squeeze=True)"
      ],
      "metadata": {
        "id": "4aP0OwqseBqd"
      },
      "execution_count": 68,
      "outputs": []
    },
    {
      "cell_type": "code",
      "source": [
        "alcohol"
      ],
      "metadata": {
        "id": "XsTNNUAKeZwk",
        "outputId": "aa2581df-4583-43b0-dc85-a3a061637a4c",
        "colab": {
          "base_uri": "https://localhost:8080/"
        }
      },
      "execution_count": 69,
      "outputs": [
        {
          "output_type": "execute_result",
          "data": {
            "text/plain": [
              "country\n",
              "Afghanistan      NaN\n",
              "Albania         54.0\n",
              "Algeria         14.0\n",
              "Andorra        312.0\n",
              "Angola          45.0\n",
              "               ...  \n",
              "Venezuela        3.0\n",
              "Vietnam          1.0\n",
              "Yemen            NaN\n",
              "Zambia           4.0\n",
              "Zimbabwe         4.0\n",
              "Name: wine_servings, Length: 193, dtype: float64"
            ]
          },
          "metadata": {},
          "execution_count": 69
        }
      ]
    },
    {
      "cell_type": "code",
      "source": [
        "alcohol.size"
      ],
      "metadata": {
        "id": "4qwN6LAgfUmZ",
        "outputId": "e5eca045-1fb6-4c19-c8b3-c665bdd8387f",
        "colab": {
          "base_uri": "https://localhost:8080/"
        }
      },
      "execution_count": 70,
      "outputs": [
        {
          "output_type": "execute_result",
          "data": {
            "text/plain": [
              "193"
            ]
          },
          "metadata": {},
          "execution_count": 70
        }
      ]
    },
    {
      "cell_type": "code",
      "source": [
        "alcohol.values"
      ],
      "metadata": {
        "id": "AfCuL5Qcfsfk",
        "outputId": "c0d5fc52-a455-4bf6-bc8a-b6298d75740d",
        "colab": {
          "base_uri": "https://localhost:8080/"
        }
      },
      "execution_count": 71,
      "outputs": [
        {
          "output_type": "execute_result",
          "data": {
            "text/plain": [
              "array([ nan,  54.,  14., 312.,  45.,  45., 221.,  11., 212., 191.,   5.,\n",
              "        51.,   7.,  nan,  36.,  42., 212.,   8.,  13.,  nan,   8.,   8.,\n",
              "        35.,  16.,   1.,  94.,   7.,  nan,   7.,  16.,   1.,   4.,   1.,\n",
              "         1.,   1., 172.,   8.,   3.,   1.,   9.,  74.,  11., 254.,   5.,\n",
              "       113., 134.,  nan,   1., 278.,   3.,  26.,   9.,   3.,   1.,   2.,\n",
              "       233.,  nan,  59.,  nan,   1.,  97.,  37.,  59.,   1., 149., 175.,\n",
              "         1., 218.,  28.,   2.,   2.,  21.,   1.,   1.,   2., 185.,  78.,\n",
              "        nan,  nan,  nan,  nan, 165.,   9., 237.,   9.,  16.,   1.,  12.,\n",
              "         2.,   1.,  nan,   6., 123.,  62.,  31.,  nan,   2.,  nan,  56.,\n",
              "       271.,   4.,   1.,  nan,  nan,   1.,  12.,  nan,  nan,  18.,   5.,\n",
              "        18.,  nan,   8., 128.,   1.,   5.,  nan,   1.,   8.,  nan,  19.,\n",
              "       175.,   1.,   1.,   2.,   7., 129.,   1.,  nan,  23.,  18.,   1.,\n",
              "        74.,  21.,   1.,  56., 339.,   7.,   9.,  18., 167.,  73.,  nan,\n",
              "        32.,  71.,  11.,  24.,  nan,  14.,  nan,   7., 127.,  51.,   2.,\n",
              "        11., 116., 276.,   1.,  nan,  81., 112.,  nan,  nan,   7.,   2.,\n",
              "       186.,  28.,  16.,  nan,   1.,  86.,   4.,  19.,   5.,   7.,   2.,\n",
              "         7.,  32.,   9.,  nan,  45.,   5., 195.,   1.,  84.,  22.,   8.,\n",
              "        11.,   3.,   1.,  nan,   4.,   4.])"
            ]
          },
          "metadata": {},
          "execution_count": 71
        }
      ]
    },
    {
      "cell_type": "code",
      "source": [
        "alcohol.index"
      ],
      "metadata": {
        "id": "jFM7ewIhfzqj",
        "outputId": "c089beee-9783-4c79-eafb-5ec8fa27ca98",
        "colab": {
          "base_uri": "https://localhost:8080/"
        }
      },
      "execution_count": 72,
      "outputs": [
        {
          "output_type": "execute_result",
          "data": {
            "text/plain": [
              "Index(['Afghanistan', 'Albania', 'Algeria', 'Andorra', 'Angola',\n",
              "       'Antigua & Barbuda', 'Argentina', 'Armenia', 'Australia', 'Austria',\n",
              "       ...\n",
              "       'Tanzania', 'USA', 'Uruguay', 'Uzbekistan', 'Vanuatu', 'Venezuela',\n",
              "       'Vietnam', 'Yemen', 'Zambia', 'Zimbabwe'],\n",
              "      dtype='object', name='country', length=193)"
            ]
          },
          "metadata": {},
          "execution_count": 72
        }
      ]
    },
    {
      "cell_type": "code",
      "source": [
        "alcohol.values.size == alcohol.index.size"
      ],
      "metadata": {
        "id": "cQMlWcr8f2cR",
        "outputId": "1040fbd9-cf18-49ae-a8fe-eaf7867bad3f",
        "colab": {
          "base_uri": "https://localhost:8080/"
        }
      },
      "execution_count": 74,
      "outputs": [
        {
          "output_type": "execute_result",
          "data": {
            "text/plain": [
              "True"
            ]
          },
          "metadata": {},
          "execution_count": 74
        }
      ]
    },
    {
      "cell_type": "code",
      "source": [
        "alcohol.shape"
      ],
      "metadata": {
        "id": "miuukx-Zf7xy",
        "outputId": "5954a816-fa54-4cd5-a55c-48b74019bec2",
        "colab": {
          "base_uri": "https://localhost:8080/"
        }
      },
      "execution_count": 75,
      "outputs": [
        {
          "output_type": "execute_result",
          "data": {
            "text/plain": [
              "(193,)"
            ]
          },
          "metadata": {},
          "execution_count": 75
        }
      ]
    },
    {
      "cell_type": "code",
      "source": [
        "len(alcohol)"
      ],
      "metadata": {
        "id": "z0uORfZugD3W",
        "outputId": "5eef36e0-0b5b-4cff-c1d2-512765bc4773",
        "colab": {
          "base_uri": "https://localhost:8080/"
        }
      },
      "execution_count": 77,
      "outputs": [
        {
          "output_type": "execute_result",
          "data": {
            "text/plain": [
              "193"
            ]
          },
          "metadata": {},
          "execution_count": 77
        }
      ]
    },
    {
      "cell_type": "code",
      "source": [
        ""
      ],
      "metadata": {
        "id": "QFeDR-2JgIQ7"
      },
      "execution_count": null,
      "outputs": []
    },
    {
      "cell_type": "markdown",
      "source": [
        "Unique Values and Series Monotonicity"
      ],
      "metadata": {
        "id": "PHFPFUdhgb-M"
      }
    },
    {
      "cell_type": "code",
      "source": [
        "alcohol.is_unique"
      ],
      "metadata": {
        "id": "CXcg6TGsge66",
        "outputId": "d366111a-3659-4617-91f7-793522264b05",
        "colab": {
          "base_uri": "https://localhost:8080/"
        }
      },
      "execution_count": 78,
      "outputs": [
        {
          "output_type": "execute_result",
          "data": {
            "text/plain": [
              "False"
            ]
          },
          "metadata": {},
          "execution_count": 78
        }
      ]
    },
    {
      "cell_type": "code",
      "source": [
        "alcohol.head().is_unique"
      ],
      "metadata": {
        "id": "gEj3Iq0Xgh6F",
        "outputId": "fb2cf6bb-319a-46e1-b2ad-7caa18187839",
        "colab": {
          "base_uri": "https://localhost:8080/"
        }
      },
      "execution_count": 79,
      "outputs": [
        {
          "output_type": "execute_result",
          "data": {
            "text/plain": [
              "True"
            ]
          },
          "metadata": {},
          "execution_count": 79
        }
      ]
    },
    {
      "cell_type": "code",
      "source": [
        "alcohol.nunique(dropna=False)"
      ],
      "metadata": {
        "id": "QEFhMg5kg16V",
        "outputId": "d7d3ecb2-307e-4497-afac-3ced4e31dd0f",
        "colab": {
          "base_uri": "https://localhost:8080/"
        }
      },
      "execution_count": 80,
      "outputs": [
        {
          "output_type": "execute_result",
          "data": {
            "text/plain": [
              "72"
            ]
          },
          "metadata": {},
          "execution_count": 80
        }
      ]
    },
    {
      "cell_type": "code",
      "source": [
        "pd.Series([1,2,3]).is_monotonic"
      ],
      "metadata": {
        "id": "iDVT8JB0gnP0",
        "outputId": "0470b967-e93d-4950-c891-0620591b17d5",
        "colab": {
          "base_uri": "https://localhost:8080/"
        }
      },
      "execution_count": 82,
      "outputs": [
        {
          "output_type": "execute_result",
          "data": {
            "text/plain": [
              "True"
            ]
          },
          "metadata": {},
          "execution_count": 82
        }
      ]
    },
    {
      "cell_type": "code",
      "source": [
        "pd.Series([1,2,3,4,5,5,5,]).is_monotonic"
      ],
      "metadata": {
        "id": "ZOTMS-c9hAQ5",
        "outputId": "19124a3f-9974-4a71-9154-f34502d0acb3",
        "colab": {
          "base_uri": "https://localhost:8080/"
        }
      },
      "execution_count": 83,
      "outputs": [
        {
          "output_type": "execute_result",
          "data": {
            "text/plain": [
              "True"
            ]
          },
          "metadata": {},
          "execution_count": 83
        }
      ]
    },
    {
      "cell_type": "code",
      "source": [
        "pd.Series([1,2,3,1]).is_monotonic"
      ],
      "metadata": {
        "id": "w2yFbcSbhJ9E",
        "outputId": "9fcdc3d5-ad6a-4c9c-b3b5-8006cd1818bf",
        "colab": {
          "base_uri": "https://localhost:8080/"
        }
      },
      "execution_count": 84,
      "outputs": [
        {
          "output_type": "execute_result",
          "data": {
            "text/plain": [
              "False"
            ]
          },
          "metadata": {},
          "execution_count": 84
        }
      ]
    },
    {
      "cell_type": "code",
      "source": [
        "alcohol.count()"
      ],
      "metadata": {
        "id": "OUGCTiLfhSJV",
        "outputId": "d2638bcc-b432-41c6-a300-ddadaaf55a83",
        "colab": {
          "base_uri": "https://localhost:8080/"
        }
      },
      "execution_count": 85,
      "outputs": [
        {
          "output_type": "execute_result",
          "data": {
            "text/plain": [
              "162"
            ]
          },
          "metadata": {},
          "execution_count": 85
        }
      ]
    },
    {
      "cell_type": "code",
      "source": [
        ""
      ],
      "metadata": {
        "id": "_L1ao9AthXLc"
      },
      "execution_count": null,
      "outputs": []
    }
  ]
}